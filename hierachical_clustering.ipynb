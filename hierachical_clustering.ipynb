{
  "cells": [
    {
      "cell_type": "code",
      "execution_count": 70,
      "metadata": {
        "colab": {
          "base_uri": "https://localhost:8080/",
          "height": 1000
        },
        "id": "QML44xNqX2nd",
        "outputId": "875c4002-82ae-44b7-9ab7-ec43d572fb1a"
      },
      "outputs": [],
      "source": [
        "# Importando as bibliotecas necessárias\n",
        "import pandas as pd\n",
        "import numpy as np\n",
        "from sklearn.cluster import KMeans\n",
        "from sklearn.preprocessing import LabelEncoder, MinMaxScaler\n",
        "from sklearn.metrics import silhouette_score, silhouette_samples, davies_bouldin_score,calinski_harabasz_score\n",
        "import seaborn as sns\n",
        "import matplotlib.pyplot as plt\n",
        "import matplotlib.cm as cm\n",
        "from sklearn.decomposition import PCA"
      ]
    },
    {
      "cell_type": "code",
      "execution_count": 16,
      "metadata": {},
      "outputs": [],
      "source": [
        "\n",
        "# Carregando os dados\n",
        "treino = pd.read_csv('data/train.csv')\n",
        "teste = pd.read_csv('data/test.csv')\n",
        "treino.drop(columns=['Survived'],inplace=True)\n",
        "treino = pd.concat([treino,teste],axis=0)"
      ]
    },
    {
      "cell_type": "code",
      "execution_count": 17,
      "metadata": {},
      "outputs": [
        {
          "name": "stdout",
          "output_type": "stream",
          "text": [
            "<class 'pandas.core.frame.DataFrame'>\n",
            "Index: 1309 entries, 0 to 417\n",
            "Data columns (total 11 columns):\n",
            " #   Column       Non-Null Count  Dtype  \n",
            "---  ------       --------------  -----  \n",
            " 0   PassengerId  1309 non-null   int64  \n",
            " 1   Pclass       1309 non-null   int64  \n",
            " 2   Name         1309 non-null   object \n",
            " 3   Sex          1309 non-null   object \n",
            " 4   Age          1046 non-null   float64\n",
            " 5   SibSp        1309 non-null   int64  \n",
            " 6   Parch        1309 non-null   int64  \n",
            " 7   Ticket       1309 non-null   object \n",
            " 8   Fare         1308 non-null   float64\n",
            " 9   Cabin        295 non-null    object \n",
            " 10  Embarked     1307 non-null   object \n",
            "dtypes: float64(2), int64(4), object(5)\n",
            "memory usage: 122.7+ KB\n"
          ]
        }
      ],
      "source": [
        "treino.info()"
      ]
    },
    {
      "cell_type": "code",
      "execution_count": 18,
      "metadata": {},
      "outputs": [
        {
          "data": {
            "text/plain": [
              "PassengerId       0\n",
              "Pclass            0\n",
              "Name              0\n",
              "Sex               0\n",
              "Age             263\n",
              "SibSp             0\n",
              "Parch             0\n",
              "Ticket            0\n",
              "Fare              1\n",
              "Cabin          1014\n",
              "Embarked          2\n",
              "dtype: int64"
            ]
          },
          "execution_count": 18,
          "metadata": {},
          "output_type": "execute_result"
        }
      ],
      "source": [
        "treino.isna().sum()"
      ]
    },
    {
      "cell_type": "code",
      "execution_count": 19,
      "metadata": {},
      "outputs": [],
      "source": [
        "treino.fillna({'Age': treino['Age'].median(), 'Embarked': treino['Embarked'].mode()[0],'Fare':treino['Fare'].mean()}, inplace=True)"
      ]
    },
    {
      "cell_type": "code",
      "execution_count": 20,
      "metadata": {},
      "outputs": [
        {
          "data": {
            "text/html": [
              "<div>\n",
              "<style scoped>\n",
              "    .dataframe tbody tr th:only-of-type {\n",
              "        vertical-align: middle;\n",
              "    }\n",
              "\n",
              "    .dataframe tbody tr th {\n",
              "        vertical-align: top;\n",
              "    }\n",
              "\n",
              "    .dataframe thead th {\n",
              "        text-align: right;\n",
              "    }\n",
              "</style>\n",
              "<table border=\"1\" class=\"dataframe\">\n",
              "  <thead>\n",
              "    <tr style=\"text-align: right;\">\n",
              "      <th></th>\n",
              "      <th>PassengerId</th>\n",
              "      <th>Pclass</th>\n",
              "      <th>Age</th>\n",
              "      <th>SibSp</th>\n",
              "      <th>Parch</th>\n",
              "      <th>Fare</th>\n",
              "    </tr>\n",
              "  </thead>\n",
              "  <tbody>\n",
              "    <tr>\n",
              "      <th>count</th>\n",
              "      <td>1309.000000</td>\n",
              "      <td>1309.000000</td>\n",
              "      <td>1309.000000</td>\n",
              "      <td>1309.000000</td>\n",
              "      <td>1309.000000</td>\n",
              "      <td>1309.000000</td>\n",
              "    </tr>\n",
              "    <tr>\n",
              "      <th>mean</th>\n",
              "      <td>655.000000</td>\n",
              "      <td>2.294882</td>\n",
              "      <td>29.503186</td>\n",
              "      <td>0.498854</td>\n",
              "      <td>0.385027</td>\n",
              "      <td>33.295479</td>\n",
              "    </tr>\n",
              "    <tr>\n",
              "      <th>std</th>\n",
              "      <td>378.020061</td>\n",
              "      <td>0.837836</td>\n",
              "      <td>12.905241</td>\n",
              "      <td>1.041658</td>\n",
              "      <td>0.865560</td>\n",
              "      <td>51.738879</td>\n",
              "    </tr>\n",
              "    <tr>\n",
              "      <th>min</th>\n",
              "      <td>1.000000</td>\n",
              "      <td>1.000000</td>\n",
              "      <td>0.170000</td>\n",
              "      <td>0.000000</td>\n",
              "      <td>0.000000</td>\n",
              "      <td>0.000000</td>\n",
              "    </tr>\n",
              "    <tr>\n",
              "      <th>25%</th>\n",
              "      <td>328.000000</td>\n",
              "      <td>2.000000</td>\n",
              "      <td>22.000000</td>\n",
              "      <td>0.000000</td>\n",
              "      <td>0.000000</td>\n",
              "      <td>7.895800</td>\n",
              "    </tr>\n",
              "    <tr>\n",
              "      <th>50%</th>\n",
              "      <td>655.000000</td>\n",
              "      <td>3.000000</td>\n",
              "      <td>28.000000</td>\n",
              "      <td>0.000000</td>\n",
              "      <td>0.000000</td>\n",
              "      <td>14.454200</td>\n",
              "    </tr>\n",
              "    <tr>\n",
              "      <th>75%</th>\n",
              "      <td>982.000000</td>\n",
              "      <td>3.000000</td>\n",
              "      <td>35.000000</td>\n",
              "      <td>1.000000</td>\n",
              "      <td>0.000000</td>\n",
              "      <td>31.275000</td>\n",
              "    </tr>\n",
              "    <tr>\n",
              "      <th>max</th>\n",
              "      <td>1309.000000</td>\n",
              "      <td>3.000000</td>\n",
              "      <td>80.000000</td>\n",
              "      <td>8.000000</td>\n",
              "      <td>9.000000</td>\n",
              "      <td>512.329200</td>\n",
              "    </tr>\n",
              "  </tbody>\n",
              "</table>\n",
              "</div>"
            ],
            "text/plain": [
              "       PassengerId       Pclass          Age        SibSp        Parch  \\\n",
              "count  1309.000000  1309.000000  1309.000000  1309.000000  1309.000000   \n",
              "mean    655.000000     2.294882    29.503186     0.498854     0.385027   \n",
              "std     378.020061     0.837836    12.905241     1.041658     0.865560   \n",
              "min       1.000000     1.000000     0.170000     0.000000     0.000000   \n",
              "25%     328.000000     2.000000    22.000000     0.000000     0.000000   \n",
              "50%     655.000000     3.000000    28.000000     0.000000     0.000000   \n",
              "75%     982.000000     3.000000    35.000000     1.000000     0.000000   \n",
              "max    1309.000000     3.000000    80.000000     8.000000     9.000000   \n",
              "\n",
              "              Fare  \n",
              "count  1309.000000  \n",
              "mean     33.295479  \n",
              "std      51.738879  \n",
              "min       0.000000  \n",
              "25%       7.895800  \n",
              "50%      14.454200  \n",
              "75%      31.275000  \n",
              "max     512.329200  "
            ]
          },
          "execution_count": 20,
          "metadata": {},
          "output_type": "execute_result"
        }
      ],
      "source": [
        "treino.describe()"
      ]
    },
    {
      "cell_type": "code",
      "execution_count": 21,
      "metadata": {},
      "outputs": [
        {
          "data": {
            "text/plain": [
              "28.0"
            ]
          },
          "execution_count": 21,
          "metadata": {},
          "output_type": "execute_result"
        }
      ],
      "source": [
        "treino.Age.median()"
      ]
    },
    {
      "cell_type": "code",
      "execution_count": 22,
      "metadata": {},
      "outputs": [],
      "source": [
        "colunas_para_remover = ['Name', 'Ticket', 'Cabin', 'Embarked','PassengerId']\n",
        "treino.drop(colunas_para_remover, axis=1, inplace=True)"
      ]
    },
    {
      "cell_type": "code",
      "execution_count": 24,
      "metadata": {},
      "outputs": [],
      "source": [
        "# Convertendo as variáveis categóricas (valide essa parte)\n",
        "labelEncoder = LabelEncoder()\n",
        "treino['Sex'] = labelEncoder.fit_transform(treino['Sex'])"
      ]
    },
    {
      "cell_type": "code",
      "execution_count": 25,
      "metadata": {},
      "outputs": [],
      "source": [
        "# Normalizando os dados\n",
        "scaler = MinMaxScaler()\n",
        "X = scaler.fit_transform(treino)"
      ]
    },
    {
      "cell_type": "code",
      "execution_count": 27,
      "metadata": {},
      "outputs": [
        {
          "data": {
            "text/plain": [
              "array([[1.        , 1.        , 0.27345609, 0.125     , 0.        ,\n",
              "        0.01415106],\n",
              "       [0.        , 0.        , 0.473882  , 0.125     , 0.        ,\n",
              "        0.13913574],\n",
              "       [1.        , 0.        , 0.32356257, 0.        , 0.        ,\n",
              "        0.01546857],\n",
              "       ...,\n",
              "       [1.        , 1.        , 0.48014531, 0.        , 0.        ,\n",
              "        0.01415106],\n",
              "       [1.        , 1.        , 0.34861581, 0.        , 0.        ,\n",
              "        0.01571255],\n",
              "       [1.        , 1.        , 0.34861581, 0.125     , 0.11111111,\n",
              "        0.0436405 ]])"
            ]
          },
          "execution_count": 27,
          "metadata": {},
          "output_type": "execute_result"
        }
      ],
      "source": [
        "X"
      ]
    },
    {
      "cell_type": "code",
      "execution_count": 28,
      "metadata": {},
      "outputs": [
        {
          "data": {
            "text/plain": [
              "Pclass    0\n",
              "Sex       0\n",
              "Age       0\n",
              "SibSp     0\n",
              "Parch     0\n",
              "Fare      0\n",
              "dtype: int64"
            ]
          },
          "execution_count": 28,
          "metadata": {},
          "output_type": "execute_result"
        }
      ],
      "source": [
        "treino.isna().sum()"
      ]
    },
    {
      "cell_type": "code",
      "execution_count": 29,
      "metadata": {},
      "outputs": [
        {
          "data": {
            "image/png": "[encoded data removed]",
            "text/plain": [
              "<Figure size 640x480 with 1 Axes>"
            ]
          },
          "metadata": {},
          "output_type": "display_data"
        }
      ],
      "source": [
        "from scipy.cluster.hierarchy import dendrogram, linkage,ward\n",
        "\n",
        "#linkage realiza clusterização hierárquica a fim de se construir um dendrograma\n",
        "dendrogram(linkage(X,method='ward'),truncate_mode='level', p=4)\n",
        "plt.show()"
      ]
    },
    {
      "cell_type": "code",
      "execution_count": 30,
      "metadata": {},
      "outputs": [
        {
          "data": {
            "text/html": [
              "<div>\n",
              "<style scoped>\n",
              "    .dataframe tbody tr th:only-of-type {\n",
              "        vertical-align: middle;\n",
              "    }\n",
              "\n",
              "    .dataframe tbody tr th {\n",
              "        vertical-align: top;\n",
              "    }\n",
              "\n",
              "    .dataframe thead th {\n",
              "        text-align: right;\n",
              "    }\n",
              "</style>\n",
              "<table border=\"1\" class=\"dataframe\">\n",
              "  <thead>\n",
              "    <tr style=\"text-align: right;\">\n",
              "      <th></th>\n",
              "      <th>Pclass</th>\n",
              "      <th>Sex</th>\n",
              "      <th>Age</th>\n",
              "      <th>SibSp</th>\n",
              "      <th>Parch</th>\n",
              "      <th>Fare</th>\n",
              "      <th>Cluster</th>\n",
              "    </tr>\n",
              "  </thead>\n",
              "  <tbody>\n",
              "    <tr>\n",
              "      <th>0</th>\n",
              "      <td>3</td>\n",
              "      <td>1</td>\n",
              "      <td>22.0</td>\n",
              "      <td>1</td>\n",
              "      <td>0</td>\n",
              "      <td>7.2500</td>\n",
              "      <td>705</td>\n",
              "    </tr>\n",
              "    <tr>\n",
              "      <th>1</th>\n",
              "      <td>1</td>\n",
              "      <td>0</td>\n",
              "      <td>38.0</td>\n",
              "      <td>1</td>\n",
              "      <td>0</td>\n",
              "      <td>71.2833</td>\n",
              "      <td>1031</td>\n",
              "    </tr>\n",
              "    <tr>\n",
              "      <th>2</th>\n",
              "      <td>3</td>\n",
              "      <td>0</td>\n",
              "      <td>26.0</td>\n",
              "      <td>0</td>\n",
              "      <td>0</td>\n",
              "      <td>7.9250</td>\n",
              "      <td>998</td>\n",
              "    </tr>\n",
              "    <tr>\n",
              "      <th>3</th>\n",
              "      <td>1</td>\n",
              "      <td>0</td>\n",
              "      <td>35.0</td>\n",
              "      <td>1</td>\n",
              "      <td>0</td>\n",
              "      <td>53.1000</td>\n",
              "      <td>863</td>\n",
              "    </tr>\n",
              "    <tr>\n",
              "      <th>4</th>\n",
              "      <td>3</td>\n",
              "      <td>1</td>\n",
              "      <td>35.0</td>\n",
              "      <td>0</td>\n",
              "      <td>0</td>\n",
              "      <td>8.0500</td>\n",
              "      <td>1308</td>\n",
              "    </tr>\n",
              "  </tbody>\n",
              "</table>\n",
              "</div>"
            ],
            "text/plain": [
              "   Pclass  Sex   Age  SibSp  Parch     Fare  Cluster\n",
              "0       3    1  22.0      1      0   7.2500      705\n",
              "1       1    0  38.0      1      0  71.2833     1031\n",
              "2       3    0  26.0      0      0   7.9250      998\n",
              "3       1    0  35.0      1      0  53.1000      863\n",
              "4       3    1  35.0      0      0   8.0500     1308"
            ]
          },
          "execution_count": 30,
          "metadata": {},
          "output_type": "execute_result"
        }
      ],
      "source": [
        "from sklearn.cluster import AgglomerativeClustering\n",
        "\n",
        "hc_model = AgglomerativeClustering(linkage='ward', metric=\"euclidean\",distance_threshold=0,n_clusters=None)\n",
        "clusters = hc_model.fit_predict(X)\n",
        "\n",
        "treino['Cluster'] = clusters\n",
        "treino.head()"
      ]
    },
    {
      "cell_type": "code",
      "execution_count": 31,
      "metadata": {},
      "outputs": [
        {
          "data": {
            "text/plain": [
              "{'affinity': 'deprecated',\n",
              " 'compute_distances': False,\n",
              " 'compute_full_tree': 'auto',\n",
              " 'connectivity': None,\n",
              " 'distance_threshold': 0,\n",
              " 'linkage': 'ward',\n",
              " 'memory': None,\n",
              " 'metric': 'euclidean',\n",
              " 'n_clusters': None}"
            ]
          },
          "execution_count": 31,
          "metadata": {},
          "output_type": "execute_result"
        }
      ],
      "source": [
        "hc_model.get_params()"
      ]
    },
    {
      "cell_type": "code",
      "execution_count": 40,
      "metadata": {},
      "outputs": [
        {
          "data": {
            "text/plain": [
              "array([ 705, 1031,  998, ...,    2,    1,    0], dtype=int64)"
            ]
          },
          "execution_count": 40,
          "metadata": {},
          "output_type": "execute_result"
        }
      ],
      "source": [
        "hc_model.labels_"
      ]
    },
    {
      "cell_type": "code",
      "execution_count": 33,
      "metadata": {},
      "outputs": [],
      "source": [
        "def plot_dendrogram(model, **kwargs):\n",
        "    # Create linkage matrix and then plot the dendrogram\n",
        "\n",
        "    # create the counts of samples under each node\n",
        "    counts = np.zeros(model.children_.shape[0])\n",
        "    n_samples = len(model.labels_)\n",
        "    for i, merge in enumerate(model.children_):\n",
        "        current_count = 0\n",
        "        for child_idx in merge:\n",
        "            if child_idx < n_samples:\n",
        "                current_count += 1  # leaf node\n",
        "            else:\n",
        "                current_count += counts[child_idx - n_samples]\n",
        "        counts[i] = current_count\n",
        "\n",
        "    linkage_matrix = np.column_stack(\n",
        "        [model.children_, model.distances_, counts]\n",
        "    ).astype(float)\n",
        "\n",
        "    # Plot the corresponding dendrogram\n",
        "    dendrogram(linkage_matrix, **kwargs)"
      ]
    },
    {
      "cell_type": "code",
      "execution_count": 35,
      "metadata": {},
      "outputs": [
        {
          "data": {
            "image/png": "[encoded data removed]",
            "text/plain": [
              "<Figure size 640x480 with 1 Axes>"
            ]
          },
          "metadata": {},
          "output_type": "display_data"
        }
      ],
      "source": [
        "hc_model_fit = hc_model.fit(X)\n",
        "plot_dendrogram(hc_model,truncate_mode=\"level\",p=4)"
      ]
    },
    {
      "cell_type": "code",
      "execution_count": 36,
      "metadata": {},
      "outputs": [],
      "source": [
        "pca = PCA(n_components=2)\n",
        "X_pca =pca.fit_transform(X)\n"
      ]
    },
    {
      "cell_type": "code",
      "execution_count": 39,
      "metadata": {},
      "outputs": [
        {
          "data": {
            "text/plain": [
              "array([[9.10000000e+01, 6.40000000e+02, 0.00000000e+00, 2.00000000e+00],\n",
              "       [1.12600000e+03, 1.30900000e+03, 0.00000000e+00, 3.00000000e+00],\n",
              "       [8.40000000e+02, 1.14200000e+03, 0.00000000e+00, 2.00000000e+00],\n",
              "       ...,\n",
              "       [2.60800000e+03, 2.61200000e+03, 1.22349000e+01, 4.66000000e+02],\n",
              "       [2.61100000e+03, 2.61300000e+03, 1.54666916e+01, 8.43000000e+02],\n",
              "       [2.61400000e+03, 2.61500000e+03, 2.46992849e+01, 1.30900000e+03]])"
            ]
          },
          "execution_count": 39,
          "metadata": {},
          "output_type": "execute_result"
        }
      ],
      "source": [
        "Z=linkage(X_pca,method='ward')\n"
      ]
    },
    {
      "cell_type": "code",
      "execution_count": 67,
      "metadata": {},
      "outputs": [
        {
          "name": "stdout",
          "output_type": "stream",
          "text": [
            "Índice de Silhueta Médio: 0.588261585650972\n"
          ]
        }
      ],
      "source": [
        "from scipy.cluster.hierarchy import fcluster\n",
        "\n",
        "# Suponha que você queira formar 4 clusters\n",
        "clusters = fcluster(Z, 4, criterion='maxclust')\n",
        "\n",
        "# Calcule o índice de silhueta\n",
        "silhouette_avg = silhouette_score(X, clusters)\n",
        "print(f'Índice de Silhueta Médio: {silhouette_avg}')\n"
      ]
    },
    {
      "cell_type": "code",
      "execution_count": 68,
      "metadata": {},
      "outputs": [
        {
          "data": {
            "text/plain": [
              "array([3, 2, 1, 4])"
            ]
          },
          "execution_count": 68,
          "metadata": {},
          "output_type": "execute_result"
        }
      ],
      "source": [
        "pd.unique(clusters)"
      ]
    },
    {
      "cell_type": "code",
      "execution_count": 69,
      "metadata": {},
      "outputs": [
        {
          "name": "stdout",
          "output_type": "stream",
          "text": [
            "Índice de Davies-Bouldin: 0.6735963169549717\n"
          ]
        }
      ],
      "source": [
        "davies_bouldin = davies_bouldin_score(X, clusters)\n",
        "print(\"Índice de Davies-Bouldin:\", davies_bouldin)"
      ]
    },
    {
      "cell_type": "code",
      "execution_count": 71,
      "metadata": {},
      "outputs": [
        {
          "data": {
            "text/plain": [
              "1952.5431074115274"
            ]
          },
          "execution_count": 71,
          "metadata": {},
          "output_type": "execute_result"
        }
      ],
      "source": [
        "calinski_harabasz_score(X, clusters)"
      ]
    },
    {
      "cell_type": "code",
      "execution_count": 95,
      "metadata": {},
      "outputs": [
        {
          "data": {
            "image/png": "[encoded data removed]",
            "text/plain": [
              "<Figure size 640x480 with 1 Axes>"
            ]
          },
          "metadata": {},
          "output_type": "display_data"
        }
      ],
      "source": [
        "max_cluster = 12\n",
        "cluster_calinski_series = []\n",
        "for i in range(2,max_cluster):\n",
        "    # Suponha que você queira formar 4 clusters\n",
        "    clusters = fcluster(Z, i, criterion='maxclust')\n",
        "    CH_index = calinski_harabasz_score(X, clusters)\n",
        "    cluster_calinski_series.append(CH_index)\n",
        "plt.plot(cluster_calinski_series)\n",
        "plt.title(\"calinki_harabasz score\")\n",
        "plt.show()"
      ]
    },
    {
      "cell_type": "code",
      "execution_count": 100,
      "metadata": {},
      "outputs": [
        {
          "data": {
            "image/png": "[encoded data removed]",
            "text/plain": [
              "<Figure size 640x480 with 1 Axes>"
            ]
          },
          "metadata": {},
          "output_type": "display_data"
        }
      ],
      "source": [
        "max_cluster = 12\n",
        "cluster_silhouette_series = []\n",
        "for i in range(2,max_cluster):\n",
        "    # Suponha que você queira formar 4 clusters\n",
        "    clusters = fcluster(Z, i, criterion='maxclust')\n",
        "    shi_score = silhouette_score(X, clusters)\n",
        "    cluster_silhouette_series.append(shi_score)\n",
        "plt.plot(cluster_silhouette_series)\n",
        "plt.title(\"Silhouette score\")\n",
        "plt.show()"
      ]
    },
    {
      "cell_type": "code",
      "execution_count": 104,
      "metadata": {},
      "outputs": [
        {
          "data": {
            "image/png": "[encoded data removed]",
            "text/plain": [
              "<Figure size 640x480 with 1 Axes>"
            ]
          },
          "metadata": {},
          "output_type": "display_data"
        }
      ],
      "source": [
        "max_cluster = 15\n",
        "cluster_davies_series = []\n",
        "for i in range(2,max_cluster):\n",
        "    # Suponha que você queira formar 4 clusters\n",
        "    clusters = fcluster(Z, i, criterion='maxclust')\n",
        "    davies_score = davies_bouldin_score(X, clusters)\n",
        "    cluster_davies_series.append(davies_score)\n",
        "plt.plot(cluster_davies_series)\n",
        "plt.title(\"Davies Bouldin score\")\n",
        "plt.show()"
      ]
    },
    {
      "cell_type": "code",
      "execution_count": null,
      "metadata": {},
      "outputs": [],
      "source": [
        "\n",
        "# Aplique AgglomerativeClustering\n",
        "agg_clust = AgglomerativeClustering(n_clusters=None,distance_threshold=0.5)\n",
        "agg_model = agg_clust.fit(X_pca)"
      ]
    },
    {
      "cell_type": "code",
      "execution_count": 175,
      "metadata": {},
      "outputs": [
        {
          "data": {
            "image/png": "[encoded data removed]",
            "text/plain": [
              "<Figure size 640x480 with 1 Axes>"
            ]
          },
          "metadata": {},
          "output_type": "display_data"
        }
      ],
      "source": [
        "plt.scatter(X_pca[:, 0], X_pca[:, 1], c=agg_clust.labels_, cmap='rainbow')\n",
        "plt.xlabel('Componente Principal 1')\n",
        "plt.ylabel('Componente Principal 2')\n",
        "plt.title('Clusters formados pelo AgglomerativeClustering com PCA')\n",
        "plt.show()"
      ]
    },
    {
      "cell_type": "code",
      "execution_count": 179,
      "metadata": {},
      "outputs": [
        {
          "data": {
            "text/plain": [
              "array([3, 2, 1, 0, 6, 5, 4], dtype=int64)"
            ]
          },
          "execution_count": 179,
          "metadata": {},
          "output_type": "execute_result"
        }
      ],
      "source": [
        "pd.unique(agg_clust.labels_)"
      ]
    },
    {
      "cell_type": "code",
      "execution_count": 182,
      "metadata": {},
      "outputs": [
        {
          "name": "stdout",
          "output_type": "stream",
          "text": [
            "Índice de Silhueta Médio: 0.5957514124886524\n"
          ]
        }
      ],
      "source": [
        "silhouette_avg = silhouette_score(X, agg_clust.labels_)\n",
        "print(f'Índice de Silhueta Médio: {silhouette_avg}')"
      ]
    },
    {
      "cell_type": "code",
      "execution_count": 184,
      "metadata": {},
      "outputs": [
        {
          "name": "stdout",
          "output_type": "stream",
          "text": [
            "Índice de Davies-Bouldin: 0.7675846500335879\n"
          ]
        }
      ],
      "source": [
        "davies_bouldin = davies_bouldin_score(X, agg_clust.labels_)\n",
        "print(\"Índice de Davies-Bouldin:\", davies_bouldin)"
      ]
    },
    {
      "cell_type": "code",
      "execution_count": 180,
      "metadata": {},
      "outputs": [
        {
          "data": {
            "image/png": "[encoded data removed]",
            "text/plain": [
              "<Figure size 640x480 with 1 Axes>"
            ]
          },
          "metadata": {},
          "output_type": "display_data"
        }
      ],
      "source": [
        "plot_dendrogram(agg_model,truncate_mode=\"level\",p=4)"
      ]
    },
    {
      "cell_type": "code",
      "execution_count": 19,
      "metadata": {},
      "outputs": [
        {
          "ename": "KeyError",
          "evalue": "0",
          "output_type": "error",
          "traceback": [
            "\u001b[1;31m---------------------------------------------------------------------------\u001b[0m",
            "\u001b[1;31mTypeError\u001b[0m                                 Traceback (most recent call last)",
            "File \u001b[1;32mc:\\Users\\Marcelo\\AppData\\Local\\Programs\\Python\\Python311\\Lib\\site-packages\\pandas\\_libs\\index.pyx:199\u001b[0m, in \u001b[0;36mpandas._libs.index.IndexEngine._get_loc_duplicates\u001b[1;34m()\u001b[0m\n",
            "\u001b[1;31mTypeError\u001b[0m: '<' not supported between instances of 'str' and 'int'",
            "\nDuring handling of the above exception, another exception occurred:\n",
            "\u001b[1;31mKeyError\u001b[0m                                  Traceback (most recent call last)",
            "File \u001b[1;32mc:\\Users\\Marcelo\\AppData\\Local\\Programs\\Python\\Python311\\Lib\\site-packages\\pandas\\core\\indexes\\base.py:3652\u001b[0m, in \u001b[0;36mIndex.get_loc\u001b[1;34m(self, key)\u001b[0m\n\u001b[0;32m   3651\u001b[0m \u001b[38;5;28;01mtry\u001b[39;00m:\n\u001b[1;32m-> 3652\u001b[0m     \u001b[38;5;28;01mreturn\u001b[39;00m \u001b[38;5;28;43mself\u001b[39;49m\u001b[38;5;241;43m.\u001b[39;49m\u001b[43m_engine\u001b[49m\u001b[38;5;241;43m.\u001b[39;49m\u001b[43mget_loc\u001b[49m\u001b[43m(\u001b[49m\u001b[43mcasted_key\u001b[49m\u001b[43m)\u001b[49m\n\u001b[0;32m   3653\u001b[0m \u001b[38;5;28;01mexcept\u001b[39;00m \u001b[38;5;167;01mKeyError\u001b[39;00m \u001b[38;5;28;01mas\u001b[39;00m err:\n",
            "File \u001b[1;32mc:\\Users\\Marcelo\\AppData\\Local\\Programs\\Python\\Python311\\Lib\\site-packages\\pandas\\_libs\\index.pyx:147\u001b[0m, in \u001b[0;36mpandas._libs.index.IndexEngine.get_loc\u001b[1;34m()\u001b[0m\n",
            "File \u001b[1;32mc:\\Users\\Marcelo\\AppData\\Local\\Programs\\Python\\Python311\\Lib\\site-packages\\pandas\\_libs\\index.pyx:171\u001b[0m, in \u001b[0;36mpandas._libs.index.IndexEngine.get_loc\u001b[1;34m()\u001b[0m\n",
            "File \u001b[1;32mc:\\Users\\Marcelo\\AppData\\Local\\Programs\\Python\\Python311\\Lib\\site-packages\\pandas\\_libs\\index.pyx:204\u001b[0m, in \u001b[0;36mpandas._libs.index.IndexEngine._get_loc_duplicates\u001b[1;34m()\u001b[0m\n",
            "\u001b[1;31mKeyError\u001b[0m: 0",
            "\nThe above exception was the direct cause of the following exception:\n",
            "\u001b[1;31mKeyError\u001b[0m                                  Traceback (most recent call last)",
            "Cell \u001b[1;32mIn [19], line 2\u001b[0m\n\u001b[0;32m      1\u001b[0m \u001b[38;5;66;03m# Tratamento de valores faltantes\u001b[39;00m\n\u001b[1;32m----> 2\u001b[0m treino\u001b[38;5;241m.\u001b[39mfillna({\u001b[38;5;124m'\u001b[39m\u001b[38;5;124mAge\u001b[39m\u001b[38;5;124m'\u001b[39m: treino[\u001b[38;5;124m'\u001b[39m\u001b[38;5;124mAge\u001b[39m\u001b[38;5;124m'\u001b[39m]\u001b[38;5;241m.\u001b[39mmedian(), \u001b[38;5;124m'\u001b[39m\u001b[38;5;124mEmbarked\u001b[39m\u001b[38;5;124m'\u001b[39m: \u001b[43mtreino\u001b[49m\u001b[43m[\u001b[49m\u001b[38;5;124;43m'\u001b[39;49m\u001b[38;5;124;43mEmbarked\u001b[39;49m\u001b[38;5;124;43m'\u001b[39;49m\u001b[43m]\u001b[49m\u001b[38;5;241;43m.\u001b[39;49m\u001b[43mmode\u001b[49m\u001b[43m(\u001b[49m\u001b[43m)\u001b[49m\u001b[43m[\u001b[49m\u001b[38;5;241;43m0\u001b[39;49m\u001b[43m]\u001b[49m}, inplace\u001b[38;5;241m=\u001b[39m\u001b[38;5;28;01mTrue\u001b[39;00m)\n\u001b[0;32m      3\u001b[0m teste\u001b[38;5;241m.\u001b[39mfillna({\u001b[38;5;124m'\u001b[39m\u001b[38;5;124mAge\u001b[39m\u001b[38;5;124m'\u001b[39m: teste[\u001b[38;5;124m'\u001b[39m\u001b[38;5;124mAge\u001b[39m\u001b[38;5;124m'\u001b[39m]\u001b[38;5;241m.\u001b[39mmedian(), \u001b[38;5;124m'\u001b[39m\u001b[38;5;124mEmbarked\u001b[39m\u001b[38;5;124m'\u001b[39m: teste[\u001b[38;5;124m'\u001b[39m\u001b[38;5;124mEmbarked\u001b[39m\u001b[38;5;124m'\u001b[39m]\u001b[38;5;241m.\u001b[39mmode()[\u001b[38;5;241m0\u001b[39m]}, inplace\u001b[38;5;241m=\u001b[39m\u001b[38;5;28;01mTrue\u001b[39;00m)\n\u001b[0;32m      5\u001b[0m \u001b[38;5;66;03m# Remoção de colunas não numéricas\u001b[39;00m\n",
            "File \u001b[1;32mc:\\Users\\Marcelo\\AppData\\Local\\Programs\\Python\\Python311\\Lib\\site-packages\\pandas\\core\\frame.py:3761\u001b[0m, in \u001b[0;36mDataFrame.__getitem__\u001b[1;34m(self, key)\u001b[0m\n\u001b[0;32m   3759\u001b[0m \u001b[38;5;28;01mif\u001b[39;00m \u001b[38;5;28mself\u001b[39m\u001b[38;5;241m.\u001b[39mcolumns\u001b[38;5;241m.\u001b[39mnlevels \u001b[38;5;241m>\u001b[39m \u001b[38;5;241m1\u001b[39m:\n\u001b[0;32m   3760\u001b[0m     \u001b[38;5;28;01mreturn\u001b[39;00m \u001b[38;5;28mself\u001b[39m\u001b[38;5;241m.\u001b[39m_getitem_multilevel(key)\n\u001b[1;32m-> 3761\u001b[0m indexer \u001b[38;5;241m=\u001b[39m \u001b[38;5;28;43mself\u001b[39;49m\u001b[38;5;241;43m.\u001b[39;49m\u001b[43mcolumns\u001b[49m\u001b[38;5;241;43m.\u001b[39;49m\u001b[43mget_loc\u001b[49m\u001b[43m(\u001b[49m\u001b[43mkey\u001b[49m\u001b[43m)\u001b[49m\n\u001b[0;32m   3762\u001b[0m \u001b[38;5;28;01mif\u001b[39;00m is_integer(indexer):\n\u001b[0;32m   3763\u001b[0m     indexer \u001b[38;5;241m=\u001b[39m [indexer]\n",
            "File \u001b[1;32mc:\\Users\\Marcelo\\AppData\\Local\\Programs\\Python\\Python311\\Lib\\site-packages\\pandas\\core\\indexes\\base.py:3654\u001b[0m, in \u001b[0;36mIndex.get_loc\u001b[1;34m(self, key)\u001b[0m\n\u001b[0;32m   3652\u001b[0m     \u001b[38;5;28;01mreturn\u001b[39;00m \u001b[38;5;28mself\u001b[39m\u001b[38;5;241m.\u001b[39m_engine\u001b[38;5;241m.\u001b[39mget_loc(casted_key)\n\u001b[0;32m   3653\u001b[0m \u001b[38;5;28;01mexcept\u001b[39;00m \u001b[38;5;167;01mKeyError\u001b[39;00m \u001b[38;5;28;01mas\u001b[39;00m err:\n\u001b[1;32m-> 3654\u001b[0m     \u001b[38;5;28;01mraise\u001b[39;00m \u001b[38;5;167;01mKeyError\u001b[39;00m(key) \u001b[38;5;28;01mfrom\u001b[39;00m \u001b[38;5;21;01merr\u001b[39;00m\n\u001b[0;32m   3655\u001b[0m \u001b[38;5;28;01mexcept\u001b[39;00m \u001b[38;5;167;01mTypeError\u001b[39;00m:\n\u001b[0;32m   3656\u001b[0m     \u001b[38;5;66;03m# If we have a listlike key, _check_indexing_error will raise\u001b[39;00m\n\u001b[0;32m   3657\u001b[0m     \u001b[38;5;66;03m#  InvalidIndexError. Otherwise we fall through and re-raise\u001b[39;00m\n\u001b[0;32m   3658\u001b[0m     \u001b[38;5;66;03m#  the TypeError.\u001b[39;00m\n\u001b[0;32m   3659\u001b[0m     \u001b[38;5;28mself\u001b[39m\u001b[38;5;241m.\u001b[39m_check_indexing_error(key)\n",
            "\u001b[1;31mKeyError\u001b[0m: 0"
          ]
        }
      ],
      "source": [
        "# Tratamento de valores faltantes\n",
        "treino.fillna({'Age': treino['Age'].median(), 'Embarked': treino['Embarked'].mode()[0]}, inplace=True)\n",
        "teste.fillna({'Age': teste['Age'].median(), 'Embarked': teste['Embarked'].mode()[0]}, inplace=True)\n",
        "\n",
        "# Remoção de colunas não numéricas\n",
        "colunas_para_remover = ['Name', 'Ticket', 'Cabin', 'Embarked','PassengerId']\n",
        "treino.drop(colunas_para_remover, axis=1, inplace=True)\n",
        "teste.drop(colunas_para_remover, axis=1, inplace=True)\n",
        "\n",
        "# Convertendo as variáveis categóricas (valide essa parte)\n",
        "labelEncoder = LabelEncoder()\n",
        "treino['Sex'] = labelEncoder.fit_transform(treino['Sex'])\n",
        "teste['Sex'] = labelEncoder.transform(teste['Sex'])"
      ]
    },
    {
      "cell_type": "code",
      "execution_count": 17,
      "metadata": {},
      "outputs": [
        {
          "name": "stdout",
          "output_type": "stream",
          "text": [
            "***** Treino *****\n",
            "   PassengerId Pclass                                               Name  \\\n",
            "0            1      3                            Braund, Mr. Owen Harris   \n",
            "1            2      1  Cumings, Mrs. John Bradley (Florence Briggs Th...   \n",
            "2            3      3                             Heikkinen, Miss. Laina   \n",
            "3            4      1       Futrelle, Mrs. Jacques Heath (Lily May Peel)   \n",
            "4            5      3                           Allen, Mr. William Henry   \n",
            "\n",
            "      Sex   Age SibSp  Parch            Ticket     Fare Cabin  ... Pclass  \\\n",
            "0    male  22.0     1      0         A/5 21171   7.2500   NaN  ...    3.0   \n",
            "1  female  38.0     1      0          PC 17599  71.2833   C85  ...    3.0   \n",
            "2  female  26.0     0      0  STON/O2. 3101282   7.9250   NaN  ...    2.0   \n",
            "3  female  35.0     1      0            113803  53.1000  C123  ...    3.0   \n",
            "4    male  35.0     0      0            373450   8.0500   NaN  ...    3.0   \n",
            "\n",
            "                                           Name     Sex   Age SibSp  Parch  \\\n",
            "0                              Kelly, Mr. James    male  34.5   0.0    0.0   \n",
            "1              Wilkes, Mrs. James (Ellen Needs)  female  47.0   1.0    0.0   \n",
            "2                     Myles, Mr. Thomas Francis    male  62.0   0.0    0.0   \n",
            "3                              Wirz, Mr. Albert    male  27.0   0.0    0.0   \n",
            "4  Hirvonen, Mrs. Alexander (Helga E Lindqvist)  female  22.0   1.0    1.0   \n",
            "\n",
            "    Ticket     Fare Cabin  Embarked  \n",
            "0   330911   7.8292   NaN         Q  \n",
            "1   363272   7.0000   NaN         S  \n",
            "2   240276   9.6875   NaN         Q  \n",
            "3   315154   8.6625   NaN         S  \n",
            "4  3101298  12.2875   NaN         S  \n",
            "\n",
            "[5 rows x 22 columns]\n",
            "\n",
            "\n",
            "\n",
            "\n",
            "\n",
            "\n",
            "***** Treino *****\n",
            "       PassengerId      Pclass         Age       SibSp       Parch  \\\n",
            "count   891.000000  891.000000  714.000000  891.000000  891.000000   \n",
            "mean    446.000000    2.308642   29.699118    0.523008    0.381594   \n",
            "std     257.353842    0.836071   14.526497    1.102743    0.806057   \n",
            "min       1.000000    1.000000    0.420000    0.000000    0.000000   \n",
            "25%     223.500000    2.000000   20.125000    0.000000    0.000000   \n",
            "50%     446.000000    3.000000   28.000000    0.000000    0.000000   \n",
            "75%     668.500000    3.000000   38.000000    1.000000    0.000000   \n",
            "max     891.000000    3.000000   80.000000    8.000000    6.000000   \n",
            "\n",
            "             Fare  PassengerId      Pclass         Age       SibSp  \\\n",
            "count  891.000000   418.000000  418.000000  332.000000  418.000000   \n",
            "mean    32.204208  1100.500000    2.265550   30.272590    0.447368   \n",
            "std     49.693429   120.810458    0.841838   14.181209    0.896760   \n",
            "min      0.000000   892.000000    1.000000    0.170000    0.000000   \n",
            "25%      7.910400   996.250000    1.000000   21.000000    0.000000   \n",
            "50%     14.454200  1100.500000    3.000000   27.000000    0.000000   \n",
            "75%     31.000000  1204.750000    3.000000   39.000000    1.000000   \n",
            "max    512.329200  1309.000000    3.000000   76.000000    8.000000   \n",
            "\n",
            "            Parch        Fare  \n",
            "count  418.000000  417.000000  \n",
            "mean     0.392344   35.627188  \n",
            "std      0.981429   55.907576  \n",
            "min      0.000000    0.000000  \n",
            "25%      0.000000    7.895800  \n",
            "50%      0.000000   14.454200  \n",
            "75%      0.000000   31.500000  \n",
            "max      9.000000  512.329200  \n",
            "\n",
            "\n",
            "\n",
            "\n",
            "***** Colunas de Treino *****\n",
            "['PassengerId' 'Pclass' 'Name' 'Sex' 'Age' 'SibSp' 'Parch' 'Ticket' 'Fare'\n",
            " 'Cabin' 'Embarked' 'PassengerId' 'Pclass' 'Name' 'Sex' 'Age' 'SibSp'\n",
            " 'Parch' 'Ticket' 'Fare' 'Cabin' 'Embarked']\n",
            "\n",
            "\n",
            "\n",
            "\n",
            "***** Quantidade de campos vazios no Treino *****\n",
            "PassengerId      0\n",
            "Pclass           0\n",
            "Name             0\n",
            "Sex              0\n",
            "Age            177\n",
            "SibSp            0\n",
            "Parch            0\n",
            "Ticket           0\n",
            "Fare             0\n",
            "Cabin          687\n",
            "Embarked         2\n",
            "PassengerId    473\n",
            "Pclass         473\n",
            "Name           473\n",
            "Sex            473\n",
            "Age            559\n",
            "SibSp          473\n",
            "Parch          473\n",
            "Ticket         473\n",
            "Fare           474\n",
            "Cabin          800\n",
            "Embarked       473\n",
            "dtype: int64\n",
            "\n",
            "\n",
            "***** Quantidade de campos vazios no Teste *****\n",
            "PassengerId      0\n",
            "Pclass           0\n",
            "Name             0\n",
            "Sex              0\n",
            "Age             86\n",
            "SibSp            0\n",
            "Parch            0\n",
            "Ticket           0\n",
            "Fare             1\n",
            "Cabin          327\n",
            "Embarked         0\n",
            "dtype: int64\n"
          ]
        },
        {
          "ename": "KeyError",
          "evalue": "0",
          "output_type": "error",
          "traceback": [
            "\u001b[1;31m---------------------------------------------------------------------------\u001b[0m",
            "\u001b[1;31mTypeError\u001b[0m                                 Traceback (most recent call last)",
            "File \u001b[1;32mc:\\Users\\Marcelo\\AppData\\Local\\Programs\\Python\\Python311\\Lib\\site-packages\\pandas\\_libs\\index.pyx:199\u001b[0m, in \u001b[0;36mpandas._libs.index.IndexEngine._get_loc_duplicates\u001b[1;34m()\u001b[0m\n",
            "\u001b[1;31mTypeError\u001b[0m: '<' not supported between instances of 'str' and 'int'",
            "\nDuring handling of the above exception, another exception occurred:\n",
            "\u001b[1;31mKeyError\u001b[0m                                  Traceback (most recent call last)",
            "File \u001b[1;32mc:\\Users\\Marcelo\\AppData\\Local\\Programs\\Python\\Python311\\Lib\\site-packages\\pandas\\core\\indexes\\base.py:3652\u001b[0m, in \u001b[0;36mIndex.get_loc\u001b[1;34m(self, key)\u001b[0m\n\u001b[0;32m   3651\u001b[0m \u001b[38;5;28;01mtry\u001b[39;00m:\n\u001b[1;32m-> 3652\u001b[0m     \u001b[38;5;28;01mreturn\u001b[39;00m \u001b[38;5;28;43mself\u001b[39;49m\u001b[38;5;241;43m.\u001b[39;49m\u001b[43m_engine\u001b[49m\u001b[38;5;241;43m.\u001b[39;49m\u001b[43mget_loc\u001b[49m\u001b[43m(\u001b[49m\u001b[43mcasted_key\u001b[49m\u001b[43m)\u001b[49m\n\u001b[0;32m   3653\u001b[0m \u001b[38;5;28;01mexcept\u001b[39;00m \u001b[38;5;167;01mKeyError\u001b[39;00m \u001b[38;5;28;01mas\u001b[39;00m err:\n",
            "File \u001b[1;32mc:\\Users\\Marcelo\\AppData\\Local\\Programs\\Python\\Python311\\Lib\\site-packages\\pandas\\_libs\\index.pyx:147\u001b[0m, in \u001b[0;36mpandas._libs.index.IndexEngine.get_loc\u001b[1;34m()\u001b[0m\n",
            "File \u001b[1;32mc:\\Users\\Marcelo\\AppData\\Local\\Programs\\Python\\Python311\\Lib\\site-packages\\pandas\\_libs\\index.pyx:171\u001b[0m, in \u001b[0;36mpandas._libs.index.IndexEngine.get_loc\u001b[1;34m()\u001b[0m\n",
            "File \u001b[1;32mc:\\Users\\Marcelo\\AppData\\Local\\Programs\\Python\\Python311\\Lib\\site-packages\\pandas\\_libs\\index.pyx:204\u001b[0m, in \u001b[0;36mpandas._libs.index.IndexEngine._get_loc_duplicates\u001b[1;34m()\u001b[0m\n",
            "\u001b[1;31mKeyError\u001b[0m: 0",
            "\nThe above exception was the direct cause of the following exception:\n",
            "\u001b[1;31mKeyError\u001b[0m                                  Traceback (most recent call last)",
            "Cell \u001b[1;32mIn [17], line 39\u001b[0m\n\u001b[0;32m     36\u001b[0m \u001b[38;5;28mprint\u001b[39m(teste\u001b[38;5;241m.\u001b[39misna()\u001b[38;5;241m.\u001b[39msum())\n\u001b[0;32m     38\u001b[0m \u001b[38;5;66;03m# Tratamento de valores faltantes\u001b[39;00m\n\u001b[1;32m---> 39\u001b[0m treino\u001b[38;5;241m.\u001b[39mfillna({\u001b[38;5;124m'\u001b[39m\u001b[38;5;124mAge\u001b[39m\u001b[38;5;124m'\u001b[39m: treino[\u001b[38;5;124m'\u001b[39m\u001b[38;5;124mAge\u001b[39m\u001b[38;5;124m'\u001b[39m]\u001b[38;5;241m.\u001b[39mmedian(), \u001b[38;5;124m'\u001b[39m\u001b[38;5;124mEmbarked\u001b[39m\u001b[38;5;124m'\u001b[39m: \u001b[43mtreino\u001b[49m\u001b[43m[\u001b[49m\u001b[38;5;124;43m'\u001b[39;49m\u001b[38;5;124;43mEmbarked\u001b[39;49m\u001b[38;5;124;43m'\u001b[39;49m\u001b[43m]\u001b[49m\u001b[38;5;241;43m.\u001b[39;49m\u001b[43mmode\u001b[49m\u001b[43m(\u001b[49m\u001b[43m)\u001b[49m\u001b[43m[\u001b[49m\u001b[38;5;241;43m0\u001b[39;49m\u001b[43m]\u001b[49m}, inplace\u001b[38;5;241m=\u001b[39m\u001b[38;5;28;01mTrue\u001b[39;00m)\n\u001b[0;32m     40\u001b[0m teste\u001b[38;5;241m.\u001b[39mfillna({\u001b[38;5;124m'\u001b[39m\u001b[38;5;124mAge\u001b[39m\u001b[38;5;124m'\u001b[39m: teste[\u001b[38;5;124m'\u001b[39m\u001b[38;5;124mAge\u001b[39m\u001b[38;5;124m'\u001b[39m]\u001b[38;5;241m.\u001b[39mmedian(), \u001b[38;5;124m'\u001b[39m\u001b[38;5;124mEmbarked\u001b[39m\u001b[38;5;124m'\u001b[39m: teste[\u001b[38;5;124m'\u001b[39m\u001b[38;5;124mEmbarked\u001b[39m\u001b[38;5;124m'\u001b[39m]\u001b[38;5;241m.\u001b[39mmode()[\u001b[38;5;241m0\u001b[39m]}, inplace\u001b[38;5;241m=\u001b[39m\u001b[38;5;28;01mTrue\u001b[39;00m)\n\u001b[0;32m     42\u001b[0m \u001b[38;5;66;03m# Remoção de colunas não numéricas\u001b[39;00m\n",
            "File \u001b[1;32mc:\\Users\\Marcelo\\AppData\\Local\\Programs\\Python\\Python311\\Lib\\site-packages\\pandas\\core\\frame.py:3761\u001b[0m, in \u001b[0;36mDataFrame.__getitem__\u001b[1;34m(self, key)\u001b[0m\n\u001b[0;32m   3759\u001b[0m \u001b[38;5;28;01mif\u001b[39;00m \u001b[38;5;28mself\u001b[39m\u001b[38;5;241m.\u001b[39mcolumns\u001b[38;5;241m.\u001b[39mnlevels \u001b[38;5;241m>\u001b[39m \u001b[38;5;241m1\u001b[39m:\n\u001b[0;32m   3760\u001b[0m     \u001b[38;5;28;01mreturn\u001b[39;00m \u001b[38;5;28mself\u001b[39m\u001b[38;5;241m.\u001b[39m_getitem_multilevel(key)\n\u001b[1;32m-> 3761\u001b[0m indexer \u001b[38;5;241m=\u001b[39m \u001b[38;5;28;43mself\u001b[39;49m\u001b[38;5;241;43m.\u001b[39;49m\u001b[43mcolumns\u001b[49m\u001b[38;5;241;43m.\u001b[39;49m\u001b[43mget_loc\u001b[49m\u001b[43m(\u001b[49m\u001b[43mkey\u001b[49m\u001b[43m)\u001b[49m\n\u001b[0;32m   3762\u001b[0m \u001b[38;5;28;01mif\u001b[39;00m is_integer(indexer):\n\u001b[0;32m   3763\u001b[0m     indexer \u001b[38;5;241m=\u001b[39m [indexer]\n",
            "File \u001b[1;32mc:\\Users\\Marcelo\\AppData\\Local\\Programs\\Python\\Python311\\Lib\\site-packages\\pandas\\core\\indexes\\base.py:3654\u001b[0m, in \u001b[0;36mIndex.get_loc\u001b[1;34m(self, key)\u001b[0m\n\u001b[0;32m   3652\u001b[0m     \u001b[38;5;28;01mreturn\u001b[39;00m \u001b[38;5;28mself\u001b[39m\u001b[38;5;241m.\u001b[39m_engine\u001b[38;5;241m.\u001b[39mget_loc(casted_key)\n\u001b[0;32m   3653\u001b[0m \u001b[38;5;28;01mexcept\u001b[39;00m \u001b[38;5;167;01mKeyError\u001b[39;00m \u001b[38;5;28;01mas\u001b[39;00m err:\n\u001b[1;32m-> 3654\u001b[0m     \u001b[38;5;28;01mraise\u001b[39;00m \u001b[38;5;167;01mKeyError\u001b[39;00m(key) \u001b[38;5;28;01mfrom\u001b[39;00m \u001b[38;5;21;01merr\u001b[39;00m\n\u001b[0;32m   3655\u001b[0m \u001b[38;5;28;01mexcept\u001b[39;00m \u001b[38;5;167;01mTypeError\u001b[39;00m:\n\u001b[0;32m   3656\u001b[0m     \u001b[38;5;66;03m# If we have a listlike key, _check_indexing_error will raise\u001b[39;00m\n\u001b[0;32m   3657\u001b[0m     \u001b[38;5;66;03m#  InvalidIndexError. Otherwise we fall through and re-raise\u001b[39;00m\n\u001b[0;32m   3658\u001b[0m     \u001b[38;5;66;03m#  the TypeError.\u001b[39;00m\n\u001b[0;32m   3659\u001b[0m     \u001b[38;5;28mself\u001b[39m\u001b[38;5;241m.\u001b[39m_check_indexing_error(key)\n",
            "\u001b[1;31mKeyError\u001b[0m: 0"
          ]
        }
      ],
      "source": [
        "\n",
        "# Carregando os dados\n",
        "#treino = pd.read_csv('data/train.csv')\n",
        "#teste = pd.read_csv('data/test.csv')\n",
        "\n",
        "print(\"***** Treino *****\")\n",
        "print(treino.head())\n",
        "print(\"\\n\")\n",
        "\n",
        "#print(\"***** Teste *****\")\n",
        "#print(teste.head())\n",
        "\n",
        "print(\"\\n\")\n",
        "print(\"\\n\")\n",
        "print(\"***** Treino *****\")\n",
        "print(treino.describe())\n",
        "print(\"\\n\")\n",
        "\n",
        "#print(\"***** Teste *****\")\n",
        "#print(teste.describe())\n",
        "\n",
        "print(\"\\n\")\n",
        "print(\"***** Colunas de Treino *****\")\n",
        "print(treino.columns.values)\n",
        "print(\"\\n\")\n",
        "print(\"\\n\")\n",
        "# Campos vazios na lista de treino retornam o valor True abaixo\n",
        "treino.isna().head()\n",
        "\n",
        "# # Campos vazios na lista de teste retornam o valor True abaixo\n",
        "#teste.isna().head()\n",
        "\n",
        "print(\"***** Quantidade de campos vazios no Treino *****\")\n",
        "print(treino.isna().sum())\n",
        "print(\"\\n\")\n",
        "print(\"***** Quantidade de campos vazios no Teste *****\")\n",
        "print(teste.isna().sum())\n",
        "\n",
        "# Tratamento de valores faltantes\n",
        "treino.fillna({'Age': treino['Age'].median(), 'Embarked': treino['Embarked'].mode()[0]}, inplace=True)\n",
        "teste.fillna({'Age': teste['Age'].median(), 'Embarked': teste['Embarked'].mode()[0]}, inplace=True)\n",
        "\n",
        "# Remoção de colunas não numéricas\n",
        "colunas_para_remover = ['Name', 'Ticket', 'Cabin', 'Embarked','PassengerId']\n",
        "treino.drop(colunas_para_remover, axis=1, inplace=True)\n",
        "teste.drop(colunas_para_remover, axis=1, inplace=True)\n",
        "\n",
        "# Convertendo as variáveis categóricas (valide essa parte)\n",
        "labelEncoder = LabelEncoder()\n",
        "treino['Sex'] = labelEncoder.fit_transform(treino['Sex'])\n",
        "teste['Sex'] = labelEncoder.transform(teste['Sex'])\n",
        "\n",
        "# Normalizando os dados\n",
        "scaler = MinMaxScaler()\n",
        "X = scaler.fit_transform(treino, axis=1)\n"
      ]
    },
    {
      "cell_type": "code",
      "execution_count": null,
      "metadata": {},
      "outputs": [],
      "source": [
        "\n",
        "y = treino['Survived']\n",
        "\n",
        "# AQUI é calculado a soma dos quadrados dentro dos clusters\n",
        "inertia = []\n",
        "K_range = range(1, 12)\n",
        "for k in K_range:\n",
        "    #kmeans = KMeans(n_clusters=k, max_iter=600, algorithm='auto')\n",
        "    kmeans = KMeans(n_clusters=k, max_iter=1000, n_init=\"auto\",random_state=42)\n",
        "    kmeans.fit(X)\n",
        "    inertia.append(kmeans.inertia_)\n",
        "\n",
        "print(\"\\n\")\n",
        "print(\"\\n\")\n",
        "# Plotando o gráfico do cotovelo\n",
        "plt.figure(figsize=(6, 4))\n",
        "plt.plot(K_range, inertia, marker='o')\n",
        "plt.xlabel('Número de Clusters')\n",
        "plt.ylabel('Inertia')\n",
        "plt.title('Gráfico do Cotovelo para o Dataset Titanic')\n",
        "plt.show()\n",
        "\n",
        "# Aplicando K-Means\n",
        "#kmeans = KMeans(n_clusters=2, max_iter=600, algorithm='auto')\n",
        "kmeans = KMeans(n_clusters=3, max_iter=1000, n_init=\"auto\",verbose=1)\n",
        "kmeans.fit(X)\n",
        "clusters = kmeans.labels_\n",
        "cluster_labels = kmeans.labels_\n",
        "centroids = kmeans.cluster_centers_\n",
        "\n",
        "# Plotando o gráfico de dispersão dos clusters com os centroides\n",
        "#plt.figure(figsize=(10, 8))\n",
        "#sns.scatterplot(x=X[:, 0], y=X[:, 1], hue=clusters, palette='viridis', alpha=0.5)\n",
        "#sns.scatterplot(x=centroids[:, 0], y=centroids[:, 1], s=300, color='blue', label='Centroids', marker='o')\n",
        "#plt.title('K-Means++ Initialization')\n",
        "#plt.legend()\n",
        "#plt.show()\n",
        "\n",
        "\n",
        "# Avaliando a correspondência entre os clusters e a sobrevivência\n",
        "treino['Cluster'] = kmeans.labels_\n",
        "correspondencia = pd.crosstab(treino['Survived'], treino['Cluster'])\n",
        "print(correspondencia)\n",
        "\n",
        "print(\"\\n\")\n",
        "print(\"\\n\")\n",
        "# Visualizações\n",
        "# Distribuição de idade por cluster\n",
        "sns.color_palette(\"Dark2\")\n",
        "sns.histplot(data=treino, x='Age', hue='Cluster', kde=True,palette=\"Dark2\")\n",
        "plt.title('Distribuição de Idade por Cluster')\n",
        "plt.show()\n",
        "\n",
        "# Distribuição de tarifa por sexo, colorida por cluster (AQUI ESTAVA COLOcando pra testar)\n",
        "\"\"\"sns.scatterplot(data=treino, x='Fare', y='Sex', hue='Cluster')\n",
        "plt.title('Tarifa por Sexo e Cluster')\n",
        "plt.show()\"\"\"\n",
        "\n",
        "# Relação entre Pclass e Sobrevivência\n",
        "sns.barplot(x='Pclass', y='Survived', data=treino, capsize=.1)\n",
        "plt.title('Relação entre Classe e Sobrevivência')\n",
        "plt.show()\n",
        "\n",
        "print(\"\\n\")\n",
        "print(\"\\n\")\n",
        "#####\n",
        "#Obtendo os rótulos dos clusters\n",
        "labels = kmeans.labels_\n",
        "\n",
        "# Calculando o coeficiente de Silhueta\n",
        "# [é analisado um coeficiente resultante de um cálculo da distância entre os centróides, levando em consideração o agrupamento dos dados que os cerca.]\n",
        "silhouette = silhouette_score(X, labels)\n",
        "print(\"Coeficiente de Silhueta:\", silhouette)\n",
        "\n",
        "# Calculando o silhouette scores para cada amostra\n",
        "silhouette_avg = silhouette_score(X, cluster_labels)\n",
        "sample_silhouette_values = silhouette_samples(X, cluster_labels)\n",
        "\n",
        "# GErando o gráfico Silhueta\n",
        "plt.figure(figsize=(6, 4))\n",
        "y_lower = 10\n",
        "for i in range(3): # Aqui podemos ir substituindo pelo número de clusters se for diferente, daí agregando as amostras pertencentes ao mesmo cluster\n",
        "\n",
        "    ith_cluster_silhouette_values = sample_silhouette_values[cluster_labels == i]\n",
        "    ith_cluster_silhouette_values.sort()\n",
        "\n",
        "    size_cluster_i = ith_cluster_silhouette_values.shape[0]\n",
        "    y_upper = y_lower + size_cluster_i\n",
        "\n",
        "    color = cm.nipy_spectral(float(i) / 4) # Mesma coisa aqui, podemos ir substituindo pelo número de clusters se for diferente\n",
        "    plt.fill_betweenx(np.arange(y_lower, y_upper), 0, ith_cluster_silhouette_values, facecolor=color, edgecolor=color, alpha=0.7)\n",
        "\n",
        "    # Criando rótulo para o gráfico silhouette com o número do cluster no meio\n",
        "    plt.text(-0.05, y_lower + 0.5 * size_cluster_i, str(i))\n",
        "\n",
        "    y_lower = y_upper + 10  # 10 para as amostras do próximo cluster\n",
        "\n",
        "plt.title(\"O gráfico silhouette para os clusters\")\n",
        "plt.xlabel(\"Valores do Coefiente silhouette\")\n",
        "plt.ylabel(\"Rótulo do Cluster\")\n",
        "\n",
        "# Traça uma vertical para a média do silhouette score de todos os valores\n",
        "plt.axvline(x=silhouette_avg, color=\"red\", linestyle=\"--\")\n",
        "\n",
        "plt.yticks([])  # Limpar os yaxis labels / ticks\n",
        "plt.xticks([-0.1, 0, 0.2, 0.4, 0.6, 0.8, 1])\n",
        "\n",
        "plt.show()\n",
        "\n",
        "\n",
        "print(\"\\n\")\n",
        "# Calculando o índice de Davies-Bouldin\n",
        "#[é uma métrica para avaliar algoritmos de agrupamento. Esta é uma abordagem de avaliação interna,\n",
        "# onde a validação de quão bem o agrupamento foi feito é realizada usando quantidades e características inerentes ao conjunto de dados]\n",
        "davies_bouldin = davies_bouldin_score(X, labels)\n",
        "print(\"Índice de Davies-Bouldin:\", davies_bouldin)\n",
        "\n",
        "# Uma observação que li: diferentemente do gráfico de silhueta, o índice de Davies-Bouldin não é comumente representado como um gráfico para cada amostra,\n",
        "# pois é uma métrica globalizada do modelo de clustering, e não para pontos de dados individuais.\n",
        "\n",
        "# É necessário ter uma lista de modelos KMeans com diferentes números de clusters já treinados\n",
        "db_scores = []\n",
        "K_range = range(2, 12)  # Deve começar com 2 clusters, pois 1 cluster terá um índice DB de 0 por definição.\n",
        "\n",
        "for k in K_range:\n",
        "    kmeans = KMeans(n_clusters=k, max_iter=1000, n_init='auto', random_state=42).fit(X)\n",
        "    labels = kmeans.labels_\n",
        "    db_score = davies_bouldin_score(X, labels)\n",
        "    db_scores.append(db_score)\n",
        "\n",
        "# Plotando o índice de Davies-Bouldin para diferentes números de clusters\n",
        "plt.figure(figsize=(6, 4))\n",
        "plt.plot(K_range, db_scores, marker='o')\n",
        "plt.xlabel('Número de Clusters')\n",
        "plt.ylabel('Índice de Davies-Bouldin')\n",
        "plt.title('Índice de Davies-Bouldin por Número de Clusters')\n",
        "plt.show()\n",
        "\n",
        "#veja que se assimila como no gráfico do cotovelo, lembro que não há garantia de que haverá um ponto de inflexão claro e que a interpretação fica por NOSSA conta / do usuário.\n",
        "\n",
        "treino.loc[treino.Cluster==2].describe()\n",
        "\n",
        "print(\"\\n\")\n",
        "labelEncoder.inverse_transform([0])\n",
        "\n",
        "treino.describe()\n",
        "\n",
        "print(\"\\n\")\n",
        "sns.barplot(x='Cluster', y='Pclass',hue=\"Sex\", data=treino)\n",
        "\n",
        "print(\"\\n\")\n",
        "sns.barplot(x='Cluster', y='Survived',hue=\"Pclass\", data=treino)\n",
        "\n",
        "print(\"\\n\")\n",
        "# Análise Descritiva de um Cluster Específico\n",
        "#print(\"\\nAnálise Descritiva do Cluster 3:\")\n",
        "#print(treino.loc[treino.Cluster==3].describe())\n",
        "\n",
        "# Reverter os Rótulos de Gênero para Interpretação\n",
        "print(\"\\nRótulos de Gênero Revertidos:\")\n",
        "print(labelEncoder.inverse_transform([0, 1]))\n",
        "\n",
        "# Gráficos de Barras Adicionais\n",
        "\"\"\"print(\"\\nRelação entre Cluster, Classe e Gênero:\")\n",
        "sns.barplot(x='Cluster', y='Pclass', hue='Sex', data=treino)\n",
        "plt.show()\"\"\"\n",
        "\n",
        "print(\"\\nRelação entre Cluster e Sobrevivência por Classe:\")\n",
        "sns.barplot(x='Pclass', y='Survived', hue='Cluster', data=treino)\n",
        "plt.show()\n",
        "\n",
        "print(\"\\n\")\n",
        "\n",
        "print(\"\\n\")"
      ]
    },
    {
      "cell_type": "code",
      "execution_count": null,
      "metadata": {},
      "outputs": [],
      "source": [
        "teste.info()"
      ]
    },
    {
      "cell_type": "code",
      "execution_count": null,
      "metadata": {
        "colab": {
          "base_uri": "https://localhost:8080/"
        },
        "id": "2BxF9BWU68dk",
        "outputId": "380fd8bb-b6b2-4b9d-fda5-006c86f7cc92"
      },
      "outputs": [],
      "source": [
        "for i in range(3):\n",
        "  print(f\"+++++ Cluster {i} ++++++\")\n",
        "  print(treino.loc[treino.Cluster==i].describe())"
      ]
    },
    {
      "cell_type": "code",
      "execution_count": null,
      "metadata": {
        "colab": {
          "base_uri": "https://localhost:8080/",
          "height": 561
        },
        "id": "srB9MWmWDYZY",
        "outputId": "7f6720f6-ba69-4542-f10e-4b3ef9a1eaeb"
      },
      "outputs": [],
      "source": [
        "# Realizando PCA e KMeans como já foi feito\n",
        "pca_titanic = PCA(n_components=2)\n",
        "data_pca_titanic = pca_titanic.fit_transform(treino)\n",
        "kmeans_pca = KMeans(n_clusters=3)\n",
        "kmeans_pca.fit(data_pca_titanic)\n",
        "labels_pca = kmeans_pca.fit_predict(data_pca_titanic)\n",
        "\n",
        "# Cores para os clusters\n",
        "palette = sns.color_palette(\"Dark2\", len(np.unique(labels_pca)))\n",
        "\n",
        "# Plotando os dados com cores\n",
        "for label, color in zip(np.unique(labels_pca), palette):\n",
        "    plt.scatter(data_pca_titanic[labels_pca == label, 0],\n",
        "                data_pca_titanic[labels_pca == label, 1],\n",
        "                label=f'Cluster {label}',\n",
        "                c=[color])\n",
        "\n",
        "# Adicionando os centroides dos clusters\n",
        "centroids = kmeans_pca.cluster_centers_\n",
        "plt.scatter(centroids[:, 0], centroids[:, 1],\n",
        "            marker='x', s=100, linewidths=2,\n",
        "            c='black', zorder=10,\n",
        "            label='Centroids')\n",
        "\n",
        "# Adicionando os títulos dos eixos e título do gráfico\n",
        "plt.xlabel('Componente Principal 1')\n",
        "plt.ylabel('Componente Principal 2')\n",
        "plt.title('PCA dos Dados do Titanic com K-Means Clustering')\n",
        "\n",
        "# Mostrando a legenda\n",
        "plt.legend()\n",
        "\n",
        "plt.show()"
      ]
    }
  ],
  "metadata": {
    "colab": {
      "provenance": []
    },
    "kernelspec": {
      "display_name": "Python 3",
      "name": "python3"
    },
    "language_info": {
      "codemirror_mode": {
        "name": "ipython",
        "version": 3
      },
      "file_extension": ".py",
      "mimetype": "text/x-python",
      "name": "python",
      "nbconvert_exporter": "python",
      "pygments_lexer": "ipython3",
      "version": "3.11.0"
    }
  },
  "nbformat": 4,
  "nbformat_minor": 0
}
