{
 "cells": [
  {
   "cell_type": "code",
   "execution_count": 67,
   "metadata": {},
   "outputs": [],
   "source": [
    "import pandas as pd\n",
    "import numpy as np\n",
    "import matplotlib.pyplot as plt\n",
    "from sklearn.cluster import KMeans"
   ]
  },
  {
   "cell_type": "code",
   "execution_count": 68,
   "metadata": {},
   "outputs": [],
   "source": [
    "def fillMissingData(X, column):\n",
    "    from sklearn.impute import SimpleImputer\n",
    "    imputer = SimpleImputer(missing_values=np.nan, strategy='median')\n",
    "    X[:,column:column + 1] = imputer.fit_transform(X[:,column:column + 1])\n",
    "    return X"
   ]
  },
  {
   "cell_type": "code",
   "execution_count": 69,
   "metadata": {},
   "outputs": [
    {
     "data": {
      "text/html": [
       "<div>\n",
       "<style scoped>\n",
       "    .dataframe tbody tr th:only-of-type {\n",
       "        vertical-align: middle;\n",
       "    }\n",
       "\n",
       "    .dataframe tbody tr th {\n",
       "        vertical-align: top;\n",
       "    }\n",
       "\n",
       "    .dataframe thead th {\n",
       "        text-align: right;\n",
       "    }\n",
       "</style>\n",
       "<table border=\"1\" class=\"dataframe\">\n",
       "  <thead>\n",
       "    <tr style=\"text-align: right;\">\n",
       "      <th></th>\n",
       "      <th>Canal</th>\n",
       "      <th>Inscritos</th>\n",
       "      <th>Visualizações</th>\n",
       "    </tr>\n",
       "  </thead>\n",
       "  <tbody>\n",
       "    <tr>\n",
       "      <th>0</th>\n",
       "      <td>Site Arqueologia Egípcia</td>\n",
       "      <td>13438.0</td>\n",
       "      <td>406590.0</td>\n",
       "    </tr>\n",
       "    <tr>\n",
       "      <th>1</th>\n",
       "      <td>Terra Negra</td>\n",
       "      <td>35241.0</td>\n",
       "      <td>868235.0</td>\n",
       "    </tr>\n",
       "    <tr>\n",
       "      <th>2</th>\n",
       "      <td>Frank Jaava</td>\n",
       "      <td>31680.0</td>\n",
       "      <td>2856508.0</td>\n",
       "    </tr>\n",
       "    <tr>\n",
       "      <th>3</th>\n",
       "      <td>Dispersciência</td>\n",
       "      <td>25100.0</td>\n",
       "      <td>150000.0</td>\n",
       "    </tr>\n",
       "    <tr>\n",
       "      <th>4</th>\n",
       "      <td>Olá Ciência</td>\n",
       "      <td>32788.0</td>\n",
       "      <td>1575456.0</td>\n",
       "    </tr>\n",
       "  </tbody>\n",
       "</table>\n",
       "</div>"
      ],
      "text/plain": [
       "                      Canal  Inscritos  Visualizações\n",
       "0  Site Arqueologia Egípcia    13438.0       406590.0\n",
       "1               Terra Negra    35241.0       868235.0\n",
       "2               Frank Jaava    31680.0      2856508.0\n",
       "3            Dispersciência    25100.0       150000.0\n",
       "4               Olá Ciência    32788.0      1575456.0"
      ]
     },
     "execution_count": 69,
     "metadata": {},
     "output_type": "execute_result"
    }
   ],
   "source": [
    "df = pd.read_csv('data\\svbr.csv', delimiter=';')\n",
    "\n",
    "df.head()"
   ]
  },
  {
   "cell_type": "code",
   "execution_count": 70,
   "metadata": {},
   "outputs": [
    {
     "name": "stdout",
     "output_type": "stream",
     "text": [
      "<class 'pandas.core.frame.DataFrame'>\n",
      "RangeIndex: 47 entries, 0 to 46\n",
      "Data columns (total 3 columns):\n",
      " #   Column         Non-Null Count  Dtype  \n",
      "---  ------         --------------  -----  \n",
      " 0   Canal          47 non-null     object \n",
      " 1   Inscritos      46 non-null     float64\n",
      " 2   Visualizações  46 non-null     float64\n",
      "dtypes: float64(2), object(1)\n",
      "memory usage: 1.2+ KB\n"
     ]
    }
   ],
   "source": [
    "df.info()"
   ]
  },
  {
   "cell_type": "code",
   "execution_count": 71,
   "metadata": {},
   "outputs": [
    {
     "data": {
      "text/html": [
       "<div>\n",
       "<style scoped>\n",
       "    .dataframe tbody tr th:only-of-type {\n",
       "        vertical-align: middle;\n",
       "    }\n",
       "\n",
       "    .dataframe tbody tr th {\n",
       "        vertical-align: top;\n",
       "    }\n",
       "\n",
       "    .dataframe thead th {\n",
       "        text-align: right;\n",
       "    }\n",
       "</style>\n",
       "<table border=\"1\" class=\"dataframe\">\n",
       "  <thead>\n",
       "    <tr style=\"text-align: right;\">\n",
       "      <th></th>\n",
       "      <th>Inscritos</th>\n",
       "      <th>Visualizações</th>\n",
       "    </tr>\n",
       "  </thead>\n",
       "  <tbody>\n",
       "    <tr>\n",
       "      <th>0</th>\n",
       "      <td>13438</td>\n",
       "      <td>406590</td>\n",
       "    </tr>\n",
       "    <tr>\n",
       "      <th>1</th>\n",
       "      <td>35241</td>\n",
       "      <td>868235</td>\n",
       "    </tr>\n",
       "    <tr>\n",
       "      <th>2</th>\n",
       "      <td>31680</td>\n",
       "      <td>2856508</td>\n",
       "    </tr>\n",
       "    <tr>\n",
       "      <th>3</th>\n",
       "      <td>25100</td>\n",
       "      <td>150000</td>\n",
       "    </tr>\n",
       "    <tr>\n",
       "      <th>4</th>\n",
       "      <td>32788</td>\n",
       "      <td>1575456</td>\n",
       "    </tr>\n",
       "  </tbody>\n",
       "</table>\n",
       "</div>"
      ],
      "text/plain": [
       "  Inscritos Visualizações\n",
       "0     13438        406590\n",
       "1     35241        868235\n",
       "2     31680       2856508\n",
       "3     25100        150000\n",
       "4     32788       1575456"
      ]
     },
     "execution_count": 71,
     "metadata": {},
     "output_type": "execute_result"
    }
   ],
   "source": [
    "#pré-processamento\n",
    "df_numpy = fillMissingData(df.to_numpy(), 1)\n",
    "df_numpy[:, 1] = df_numpy[:, 1].astype(\"int\")\n",
    "df_numpy = fillMissingData(df_numpy, 2)\n",
    "df_numpy[:, 2] = df_numpy[:, 2].astype(\"int\")\n",
    "\n",
    "#atualiza peixe babel\n",
    "df.at[28, 'Inscritos'] = df_numpy[28][1]\n",
    "df.at[28, 'Visualizações'] = df_numpy[28][2]\n",
    "\n",
    "#converte inscritos e visualizações para inteiro\n",
    "df.Inscritos = df.Inscritos.astype(\"int\")\n",
    "df.Visualizações = df.Visualizações.astype(\"int\")\n",
    "\n",
    "X = pd.DataFrame({'Inscritos': df_numpy[:, 1], 'Visualizações': df_numpy[:, 2]})\n",
    "X.head()"
   ]
  },
  {
   "cell_type": "markdown",
   "metadata": {},
   "source": [
    "# K-means"
   ]
  },
  {
   "cell_type": "code",
   "execution_count": 72,
   "metadata": {},
   "outputs": [
    {
     "data": {
      "image/png": "[encoded data removed]",
      "text/plain": [
       "<Figure size 640x480 with 1 Axes>"
      ]
     },
     "metadata": {},
     "output_type": "display_data"
    }
   ],
   "source": [
    "wcss = []\n",
    "for i in range(1, 11):\n",
    "    kmeans = KMeans(n_clusters = i, init = 'k-means++', max_iter = 300, n_init = 10)\n",
    "    kmeans.fit(X)\n",
    "    wcss.append(kmeans.inertia_)\n",
    "\n",
    "plt.plot(range(1, 11), wcss)\n",
    "plt.title(\"Método do Cotovelo\")\n",
    "plt.xlabel(\"Número de Clusters\")\n",
    "plt.ylabel(\"Within-Cluster-Sum-of-Squares\")\n",
    "plt.show()"
   ]
  },
  {
   "cell_type": "markdown",
   "metadata": {},
   "source": [
    "# K = 2"
   ]
  },
  {
   "cell_type": "code",
   "execution_count": 73,
   "metadata": {},
   "outputs": [
    {
     "data": {
      "text/plain": [
       "array([0, 0, 0, 0, 0, 0, 0, 0, 0, 0, 0, 0, 0, 0, 0, 0, 0, 0, 1, 0, 0, 0,\n",
       "       0, 0, 0, 0, 0, 0, 0, 0, 0, 0, 1, 0, 0, 0, 0, 0, 0, 1, 0, 0, 0, 0,\n",
       "       0, 0, 0])"
      ]
     },
     "execution_count": 73,
     "metadata": {},
     "output_type": "execute_result"
    }
   ],
   "source": [
    "kmeans = KMeans(n_clusters = 2, init = 'k-means++', max_iter = 300, n_init = 10)\n",
    "clusters = kmeans.fit_predict(X)\n",
    "clusters"
   ]
  },
  {
   "cell_type": "code",
   "execution_count": 74,
   "metadata": {},
   "outputs": [],
   "source": [
    "df['Cluster'] = clusters"
   ]
  },
  {
   "cell_type": "code",
   "execution_count": 75,
   "metadata": {},
   "outputs": [
    {
     "data": {
      "text/html": [
       "<div>\n",
       "<style scoped>\n",
       "    .dataframe tbody tr th:only-of-type {\n",
       "        vertical-align: middle;\n",
       "    }\n",
       "\n",
       "    .dataframe tbody tr th {\n",
       "        vertical-align: top;\n",
       "    }\n",
       "\n",
       "    .dataframe thead th {\n",
       "        text-align: right;\n",
       "    }\n",
       "</style>\n",
       "<table border=\"1\" class=\"dataframe\">\n",
       "  <thead>\n",
       "    <tr style=\"text-align: right;\">\n",
       "      <th></th>\n",
       "      <th>Canal</th>\n",
       "      <th>Inscritos</th>\n",
       "      <th>Visualizações</th>\n",
       "      <th>Cluster</th>\n",
       "    </tr>\n",
       "  </thead>\n",
       "  <tbody>\n",
       "    <tr>\n",
       "      <th>0</th>\n",
       "      <td>Site Arqueologia Egípcia</td>\n",
       "      <td>13438</td>\n",
       "      <td>406590</td>\n",
       "      <td>0</td>\n",
       "    </tr>\n",
       "    <tr>\n",
       "      <th>1</th>\n",
       "      <td>Terra Negra</td>\n",
       "      <td>35241</td>\n",
       "      <td>868235</td>\n",
       "      <td>0</td>\n",
       "    </tr>\n",
       "    <tr>\n",
       "      <th>2</th>\n",
       "      <td>Frank Jaava</td>\n",
       "      <td>31680</td>\n",
       "      <td>2856508</td>\n",
       "      <td>0</td>\n",
       "    </tr>\n",
       "    <tr>\n",
       "      <th>3</th>\n",
       "      <td>Dispersciência</td>\n",
       "      <td>25100</td>\n",
       "      <td>150000</td>\n",
       "      <td>0</td>\n",
       "    </tr>\n",
       "    <tr>\n",
       "      <th>4</th>\n",
       "      <td>Olá Ciência</td>\n",
       "      <td>32788</td>\n",
       "      <td>1575456</td>\n",
       "      <td>0</td>\n",
       "    </tr>\n",
       "    <tr>\n",
       "      <th>5</th>\n",
       "      <td>A matemaníaca por Julia Jaccoud</td>\n",
       "      <td>65453</td>\n",
       "      <td>1667892</td>\n",
       "      <td>0</td>\n",
       "    </tr>\n",
       "    <tr>\n",
       "      <th>6</th>\n",
       "      <td>Delta T - Os super lentos</td>\n",
       "      <td>12000</td>\n",
       "      <td>171361</td>\n",
       "      <td>0</td>\n",
       "    </tr>\n",
       "    <tr>\n",
       "      <th>7</th>\n",
       "      <td>Bláblálogia</td>\n",
       "      <td>161951</td>\n",
       "      <td>11027386</td>\n",
       "      <td>0</td>\n",
       "    </tr>\n",
       "    <tr>\n",
       "      <th>8</th>\n",
       "      <td>Efarsas</td>\n",
       "      <td>78876</td>\n",
       "      <td>6226235</td>\n",
       "      <td>0</td>\n",
       "    </tr>\n",
       "    <tr>\n",
       "      <th>9</th>\n",
       "      <td>Minuto da Terra</td>\n",
       "      <td>274196</td>\n",
       "      <td>30166457</td>\n",
       "      <td>0</td>\n",
       "    </tr>\n",
       "    <tr>\n",
       "      <th>10</th>\n",
       "      <td>Canal Cura Quântica</td>\n",
       "      <td>13148</td>\n",
       "      <td>250020</td>\n",
       "      <td>0</td>\n",
       "    </tr>\n",
       "    <tr>\n",
       "      <th>11</th>\n",
       "      <td>Mensageiro Sideral</td>\n",
       "      <td>72425</td>\n",
       "      <td>7551491</td>\n",
       "      <td>0</td>\n",
       "    </tr>\n",
       "    <tr>\n",
       "      <th>12</th>\n",
       "      <td>Universo Racionalista</td>\n",
       "      <td>7858</td>\n",
       "      <td>43662</td>\n",
       "      <td>0</td>\n",
       "    </tr>\n",
       "    <tr>\n",
       "      <th>13</th>\n",
       "      <td>Xadrez Verbal</td>\n",
       "      <td>110549</td>\n",
       "      <td>4151548</td>\n",
       "      <td>0</td>\n",
       "    </tr>\n",
       "    <tr>\n",
       "      <th>14</th>\n",
       "      <td>Reinaldo José Lopes</td>\n",
       "      <td>11188</td>\n",
       "      <td>541832</td>\n",
       "      <td>0</td>\n",
       "    </tr>\n",
       "    <tr>\n",
       "      <th>15</th>\n",
       "      <td>Bio's Fera</td>\n",
       "      <td>5299</td>\n",
       "      <td>44312</td>\n",
       "      <td>0</td>\n",
       "    </tr>\n",
       "    <tr>\n",
       "      <th>16</th>\n",
       "      <td>QuerQueDesenhe</td>\n",
       "      <td>56006</td>\n",
       "      <td>1329268</td>\n",
       "      <td>0</td>\n",
       "    </tr>\n",
       "    <tr>\n",
       "      <th>17</th>\n",
       "      <td>Prof André Azevedo da Fonseca</td>\n",
       "      <td>45756</td>\n",
       "      <td>1825724</td>\n",
       "      <td>0</td>\n",
       "    </tr>\n",
       "    <tr>\n",
       "      <th>19</th>\n",
       "      <td>Ponto em Comum</td>\n",
       "      <td>129466</td>\n",
       "      <td>5027880</td>\n",
       "      <td>0</td>\n",
       "    </tr>\n",
       "    <tr>\n",
       "      <th>20</th>\n",
       "      <td>Canal do Slow</td>\n",
       "      <td>137409</td>\n",
       "      <td>5363423</td>\n",
       "      <td>0</td>\n",
       "    </tr>\n",
       "    <tr>\n",
       "      <th>21</th>\n",
       "      <td>Boteco Behaviorista</td>\n",
       "      <td>18404</td>\n",
       "      <td>1427977</td>\n",
       "      <td>0</td>\n",
       "    </tr>\n",
       "    <tr>\n",
       "      <th>22</th>\n",
       "      <td>Papo de Primata</td>\n",
       "      <td>42063</td>\n",
       "      <td>1111334</td>\n",
       "      <td>0</td>\n",
       "    </tr>\n",
       "    <tr>\n",
       "      <th>23</th>\n",
       "      <td>Minutos Psíquicos</td>\n",
       "      <td>648892</td>\n",
       "      <td>22555134</td>\n",
       "      <td>0</td>\n",
       "    </tr>\n",
       "    <tr>\n",
       "      <th>24</th>\n",
       "      <td>Alimente o Cérebro</td>\n",
       "      <td>135118</td>\n",
       "      <td>3375528</td>\n",
       "      <td>0</td>\n",
       "    </tr>\n",
       "    <tr>\n",
       "      <th>25</th>\n",
       "      <td>Canal Zoa</td>\n",
       "      <td>9118</td>\n",
       "      <td>683190</td>\n",
       "      <td>0</td>\n",
       "    </tr>\n",
       "    <tr>\n",
       "      <th>26</th>\n",
       "      <td>Papo de Biólogo</td>\n",
       "      <td>374057</td>\n",
       "      <td>12139385</td>\n",
       "      <td>0</td>\n",
       "    </tr>\n",
       "    <tr>\n",
       "      <th>27</th>\n",
       "      <td>Eu, Ciência</td>\n",
       "      <td>88211</td>\n",
       "      <td>1616496</td>\n",
       "      <td>0</td>\n",
       "    </tr>\n",
       "    <tr>\n",
       "      <th>28</th>\n",
       "      <td>Peixe Babel</td>\n",
       "      <td>49797</td>\n",
       "      <td>1595976</td>\n",
       "      <td>0</td>\n",
       "    </tr>\n",
       "    <tr>\n",
       "      <th>29</th>\n",
       "      <td>SpaceToday</td>\n",
       "      <td>321068</td>\n",
       "      <td>26277335</td>\n",
       "      <td>0</td>\n",
       "    </tr>\n",
       "    <tr>\n",
       "      <th>30</th>\n",
       "      <td>Ciência todo dia</td>\n",
       "      <td>528761</td>\n",
       "      <td>16969332</td>\n",
       "      <td>0</td>\n",
       "    </tr>\n",
       "    <tr>\n",
       "      <th>31</th>\n",
       "      <td>Colecionadores de Ossos</td>\n",
       "      <td>24894</td>\n",
       "      <td>806815</td>\n",
       "      <td>0</td>\n",
       "    </tr>\n",
       "    <tr>\n",
       "      <th>33</th>\n",
       "      <td>Jornal Ciensacional</td>\n",
       "      <td>6216</td>\n",
       "      <td>104217</td>\n",
       "      <td>0</td>\n",
       "    </tr>\n",
       "    <tr>\n",
       "      <th>34</th>\n",
       "      <td>iBioMovies - Canal de Biologia</td>\n",
       "      <td>17388</td>\n",
       "      <td>563535</td>\n",
       "      <td>0</td>\n",
       "    </tr>\n",
       "    <tr>\n",
       "      <th>35</th>\n",
       "      <td>Primata Falante</td>\n",
       "      <td>110840</td>\n",
       "      <td>4540321</td>\n",
       "      <td>0</td>\n",
       "    </tr>\n",
       "    <tr>\n",
       "      <th>36</th>\n",
       "      <td>Dragões de Garagem</td>\n",
       "      <td>6421</td>\n",
       "      <td>82599</td>\n",
       "      <td>0</td>\n",
       "    </tr>\n",
       "    <tr>\n",
       "      <th>37</th>\n",
       "      <td>Café e Ciência</td>\n",
       "      <td>38494</td>\n",
       "      <td>916320</td>\n",
       "      <td>0</td>\n",
       "    </tr>\n",
       "    <tr>\n",
       "      <th>38</th>\n",
       "      <td>Mimimidias</td>\n",
       "      <td>66122</td>\n",
       "      <td>2009621</td>\n",
       "      <td>0</td>\n",
       "    </tr>\n",
       "    <tr>\n",
       "      <th>40</th>\n",
       "      <td>Caio na Aula</td>\n",
       "      <td>13661</td>\n",
       "      <td>748018</td>\n",
       "      <td>0</td>\n",
       "    </tr>\n",
       "    <tr>\n",
       "      <th>41</th>\n",
       "      <td>ComCiência Corporal</td>\n",
       "      <td>2308</td>\n",
       "      <td>16150</td>\n",
       "      <td>0</td>\n",
       "    </tr>\n",
       "    <tr>\n",
       "      <th>42</th>\n",
       "      <td>Leitura ObrigaHISTORIA</td>\n",
       "      <td>138132</td>\n",
       "      <td>3013264</td>\n",
       "      <td>0</td>\n",
       "    </tr>\n",
       "    <tr>\n",
       "      <th>43</th>\n",
       "      <td>Portal da Ciência</td>\n",
       "      <td>64100</td>\n",
       "      <td>2139717</td>\n",
       "      <td>0</td>\n",
       "    </tr>\n",
       "    <tr>\n",
       "      <th>44</th>\n",
       "      <td>Universo Discreto</td>\n",
       "      <td>2330</td>\n",
       "      <td>74680</td>\n",
       "      <td>0</td>\n",
       "    </tr>\n",
       "    <tr>\n",
       "      <th>45</th>\n",
       "      <td>Astrotubers</td>\n",
       "      <td>4357</td>\n",
       "      <td>41228</td>\n",
       "      <td>0</td>\n",
       "    </tr>\n",
       "    <tr>\n",
       "      <th>46</th>\n",
       "      <td>O Físico Turista</td>\n",
       "      <td>53838</td>\n",
       "      <td>1004921</td>\n",
       "      <td>0</td>\n",
       "    </tr>\n",
       "  </tbody>\n",
       "</table>\n",
       "</div>"
      ],
      "text/plain": [
       "                              Canal  Inscritos  Visualizações  Cluster\n",
       "0          Site Arqueologia Egípcia      13438         406590        0\n",
       "1                       Terra Negra      35241         868235        0\n",
       "2                       Frank Jaava      31680        2856508        0\n",
       "3                    Dispersciência      25100         150000        0\n",
       "4                       Olá Ciência      32788        1575456        0\n",
       "5   A matemaníaca por Julia Jaccoud      65453        1667892        0\n",
       "6         Delta T - Os super lentos      12000         171361        0\n",
       "7                       Bláblálogia     161951       11027386        0\n",
       "8                           Efarsas      78876        6226235        0\n",
       "9                   Minuto da Terra     274196       30166457        0\n",
       "10              Canal Cura Quântica      13148         250020        0\n",
       "11               Mensageiro Sideral      72425        7551491        0\n",
       "12            Universo Racionalista       7858          43662        0\n",
       "13                    Xadrez Verbal     110549        4151548        0\n",
       "14              Reinaldo José Lopes      11188         541832        0\n",
       "15                       Bio's Fera       5299          44312        0\n",
       "16                   QuerQueDesenhe      56006        1329268        0\n",
       "17    Prof André Azevedo da Fonseca      45756        1825724        0\n",
       "19                   Ponto em Comum     129466        5027880        0\n",
       "20                    Canal do Slow     137409        5363423        0\n",
       "21              Boteco Behaviorista      18404        1427977        0\n",
       "22                  Papo de Primata      42063        1111334        0\n",
       "23                Minutos Psíquicos     648892       22555134        0\n",
       "24               Alimente o Cérebro     135118        3375528        0\n",
       "25                        Canal Zoa       9118         683190        0\n",
       "26                  Papo de Biólogo     374057       12139385        0\n",
       "27                      Eu, Ciência      88211        1616496        0\n",
       "28                      Peixe Babel      49797        1595976        0\n",
       "29                       SpaceToday     321068       26277335        0\n",
       "30                 Ciência todo dia     528761       16969332        0\n",
       "31          Colecionadores de Ossos      24894         806815        0\n",
       "33              Jornal Ciensacional       6216         104217        0\n",
       "34   iBioMovies - Canal de Biologia      17388         563535        0\n",
       "35                  Primata Falante     110840        4540321        0\n",
       "36               Dragões de Garagem       6421          82599        0\n",
       "37                   Café e Ciência      38494         916320        0\n",
       "38                       Mimimidias      66122        2009621        0\n",
       "40                     Caio na Aula      13661         748018        0\n",
       "41              ComCiência Corporal       2308          16150        0\n",
       "42           Leitura ObrigaHISTORIA     138132        3013264        0\n",
       "43                Portal da Ciência      64100        2139717        0\n",
       "44                Universo Discreto       2330          74680        0\n",
       "45                      Astrotubers       4357          41228        0\n",
       "46                 O Físico Turista      53838        1004921        0"
      ]
     },
     "execution_count": 75,
     "metadata": {},
     "output_type": "execute_result"
    }
   ],
   "source": [
    "boolArray = df['Cluster'] == 0\n",
    "df[boolArray]"
   ]
  },
  {
   "cell_type": "code",
   "execution_count": 76,
   "metadata": {},
   "outputs": [
    {
     "data": {
      "text/html": [
       "<div>\n",
       "<style scoped>\n",
       "    .dataframe tbody tr th:only-of-type {\n",
       "        vertical-align: middle;\n",
       "    }\n",
       "\n",
       "    .dataframe tbody tr th {\n",
       "        vertical-align: top;\n",
       "    }\n",
       "\n",
       "    .dataframe thead th {\n",
       "        text-align: right;\n",
       "    }\n",
       "</style>\n",
       "<table border=\"1\" class=\"dataframe\">\n",
       "  <thead>\n",
       "    <tr style=\"text-align: right;\">\n",
       "      <th></th>\n",
       "      <th>Canal</th>\n",
       "      <th>Inscritos</th>\n",
       "      <th>Visualizações</th>\n",
       "      <th>Cluster</th>\n",
       "    </tr>\n",
       "  </thead>\n",
       "  <tbody>\n",
       "    <tr>\n",
       "      <th>18</th>\n",
       "      <td>Matemática Rio com Prof Rafael Procópio</td>\n",
       "      <td>1423056</td>\n",
       "      <td>93036517</td>\n",
       "      <td>1</td>\n",
       "    </tr>\n",
       "    <tr>\n",
       "      <th>32</th>\n",
       "      <td>Canal do Pirula</td>\n",
       "      <td>752573</td>\n",
       "      <td>76462787</td>\n",
       "      <td>1</td>\n",
       "    </tr>\n",
       "    <tr>\n",
       "      <th>39</th>\n",
       "      <td>Schwarza - Poligonautas</td>\n",
       "      <td>860493</td>\n",
       "      <td>118741623</td>\n",
       "      <td>1</td>\n",
       "    </tr>\n",
       "  </tbody>\n",
       "</table>\n",
       "</div>"
      ],
      "text/plain": [
       "                                      Canal  Inscritos  Visualizações  Cluster\n",
       "18  Matemática Rio com Prof Rafael Procópio    1423056       93036517        1\n",
       "32                          Canal do Pirula     752573       76462787        1\n",
       "39                  Schwarza - Poligonautas     860493      118741623        1"
      ]
     },
     "execution_count": 76,
     "metadata": {},
     "output_type": "execute_result"
    }
   ],
   "source": [
    "boolArray = df['Cluster'] == 1\n",
    "df[boolArray]"
   ]
  },
  {
   "cell_type": "code",
   "execution_count": 77,
   "metadata": {},
   "outputs": [
    {
     "data": {
      "image/png": "[encoded data removed]",
      "text/plain": [
       "<Figure size 640x480 with 1 Axes>"
      ]
     },
     "metadata": {},
     "output_type": "display_data"
    }
   ],
   "source": [
    "x = X.to_numpy()\n",
    "\n",
    "plt.scatter(\n",
    "    x[clusters == 0, 0], x[clusters == 0, 1],\n",
    "    s=50, c='lightgreen',\n",
    "    edgecolor='black',\n",
    "    label='time B'\n",
    ")\n",
    "\n",
    "plt.scatter(\n",
    "    x[clusters == 1, 0], x[clusters == 1, 1],\n",
    "    s=50, c='orange',\n",
    "    edgecolor='black',\n",
    "    label='time A'\n",
    ")\n",
    "\n",
    "# plot the centroids\n",
    "plt.scatter(\n",
    "    kmeans.cluster_centers_[:, 0], kmeans.cluster_centers_[:, 1],\n",
    "    s=200, c='red', edgecolor='black',\n",
    "    label='centroides'\n",
    ")\n",
    "plt.title(\"Canais do Science Vlogs Brasil\")\n",
    "plt.xlabel(\"Inscritos\")\n",
    "plt.ylabel(\"Visualizações\")\n",
    "\n",
    "plt.legend()\n",
    "plt.show()"
   ]
  },
  {
   "cell_type": "markdown",
   "metadata": {},
   "source": [
    "# K = 3"
   ]
  },
  {
   "cell_type": "code",
   "execution_count": 78,
   "metadata": {},
   "outputs": [
    {
     "data": {
      "text/html": [
       "<div>\n",
       "<style scoped>\n",
       "    .dataframe tbody tr th:only-of-type {\n",
       "        vertical-align: middle;\n",
       "    }\n",
       "\n",
       "    .dataframe tbody tr th {\n",
       "        vertical-align: top;\n",
       "    }\n",
       "\n",
       "    .dataframe thead th {\n",
       "        text-align: right;\n",
       "    }\n",
       "</style>\n",
       "<table border=\"1\" class=\"dataframe\">\n",
       "  <thead>\n",
       "    <tr style=\"text-align: right;\">\n",
       "      <th></th>\n",
       "      <th>Canal</th>\n",
       "      <th>Inscritos</th>\n",
       "      <th>Visualizações</th>\n",
       "      <th>Cluster</th>\n",
       "    </tr>\n",
       "  </thead>\n",
       "  <tbody>\n",
       "    <tr>\n",
       "      <th>0</th>\n",
       "      <td>Site Arqueologia Egípcia</td>\n",
       "      <td>13438</td>\n",
       "      <td>406590</td>\n",
       "      <td>0</td>\n",
       "    </tr>\n",
       "    <tr>\n",
       "      <th>1</th>\n",
       "      <td>Terra Negra</td>\n",
       "      <td>35241</td>\n",
       "      <td>868235</td>\n",
       "      <td>0</td>\n",
       "    </tr>\n",
       "    <tr>\n",
       "      <th>2</th>\n",
       "      <td>Frank Jaava</td>\n",
       "      <td>31680</td>\n",
       "      <td>2856508</td>\n",
       "      <td>0</td>\n",
       "    </tr>\n",
       "    <tr>\n",
       "      <th>3</th>\n",
       "      <td>Dispersciência</td>\n",
       "      <td>25100</td>\n",
       "      <td>150000</td>\n",
       "      <td>0</td>\n",
       "    </tr>\n",
       "    <tr>\n",
       "      <th>4</th>\n",
       "      <td>Olá Ciência</td>\n",
       "      <td>32788</td>\n",
       "      <td>1575456</td>\n",
       "      <td>0</td>\n",
       "    </tr>\n",
       "  </tbody>\n",
       "</table>\n",
       "</div>"
      ],
      "text/plain": [
       "                      Canal  Inscritos  Visualizações  Cluster\n",
       "0  Site Arqueologia Egípcia      13438         406590        0\n",
       "1               Terra Negra      35241         868235        0\n",
       "2               Frank Jaava      31680        2856508        0\n",
       "3            Dispersciência      25100         150000        0\n",
       "4               Olá Ciência      32788        1575456        0"
      ]
     },
     "execution_count": 78,
     "metadata": {},
     "output_type": "execute_result"
    }
   ],
   "source": [
    "kmeans = KMeans(n_clusters = 3, init = 'k-means++', max_iter = 300, n_init = 10)\n",
    "clusters = kmeans.fit_predict(X)\n",
    "\n",
    "df['Cluster'] = clusters\n",
    "df.head()"
   ]
  },
  {
   "cell_type": "code",
   "execution_count": 79,
   "metadata": {},
   "outputs": [
    {
     "data": {
      "text/html": [
       "<div>\n",
       "<style scoped>\n",
       "    .dataframe tbody tr th:only-of-type {\n",
       "        vertical-align: middle;\n",
       "    }\n",
       "\n",
       "    .dataframe tbody tr th {\n",
       "        vertical-align: top;\n",
       "    }\n",
       "\n",
       "    .dataframe thead th {\n",
       "        text-align: right;\n",
       "    }\n",
       "</style>\n",
       "<table border=\"1\" class=\"dataframe\">\n",
       "  <thead>\n",
       "    <tr style=\"text-align: right;\">\n",
       "      <th></th>\n",
       "      <th>Canal</th>\n",
       "      <th>Inscritos</th>\n",
       "      <th>Visualizações</th>\n",
       "      <th>Cluster</th>\n",
       "    </tr>\n",
       "  </thead>\n",
       "  <tbody>\n",
       "    <tr>\n",
       "      <th>18</th>\n",
       "      <td>Matemática Rio com Prof Rafael Procópio</td>\n",
       "      <td>1423056</td>\n",
       "      <td>93036517</td>\n",
       "      <td>1</td>\n",
       "    </tr>\n",
       "    <tr>\n",
       "      <th>32</th>\n",
       "      <td>Canal do Pirula</td>\n",
       "      <td>752573</td>\n",
       "      <td>76462787</td>\n",
       "      <td>1</td>\n",
       "    </tr>\n",
       "    <tr>\n",
       "      <th>39</th>\n",
       "      <td>Schwarza - Poligonautas</td>\n",
       "      <td>860493</td>\n",
       "      <td>118741623</td>\n",
       "      <td>1</td>\n",
       "    </tr>\n",
       "  </tbody>\n",
       "</table>\n",
       "</div>"
      ],
      "text/plain": [
       "                                      Canal  Inscritos  Visualizações  Cluster\n",
       "18  Matemática Rio com Prof Rafael Procópio    1423056       93036517        1\n",
       "32                          Canal do Pirula     752573       76462787        1\n",
       "39                  Schwarza - Poligonautas     860493      118741623        1"
      ]
     },
     "execution_count": 79,
     "metadata": {},
     "output_type": "execute_result"
    }
   ],
   "source": [
    "boolArray = df['Cluster'] == 1\n",
    "df[boolArray]"
   ]
  },
  {
   "cell_type": "code",
   "execution_count": 80,
   "metadata": {},
   "outputs": [
    {
     "data": {
      "text/html": [
       "<div>\n",
       "<style scoped>\n",
       "    .dataframe tbody tr th:only-of-type {\n",
       "        vertical-align: middle;\n",
       "    }\n",
       "\n",
       "    .dataframe tbody tr th {\n",
       "        vertical-align: top;\n",
       "    }\n",
       "\n",
       "    .dataframe thead th {\n",
       "        text-align: right;\n",
       "    }\n",
       "</style>\n",
       "<table border=\"1\" class=\"dataframe\">\n",
       "  <thead>\n",
       "    <tr style=\"text-align: right;\">\n",
       "      <th></th>\n",
       "      <th>Canal</th>\n",
       "      <th>Inscritos</th>\n",
       "      <th>Visualizações</th>\n",
       "      <th>Cluster</th>\n",
       "    </tr>\n",
       "  </thead>\n",
       "  <tbody>\n",
       "    <tr>\n",
       "      <th>9</th>\n",
       "      <td>Minuto da Terra</td>\n",
       "      <td>274196</td>\n",
       "      <td>30166457</td>\n",
       "      <td>2</td>\n",
       "    </tr>\n",
       "    <tr>\n",
       "      <th>23</th>\n",
       "      <td>Minutos Psíquicos</td>\n",
       "      <td>648892</td>\n",
       "      <td>22555134</td>\n",
       "      <td>2</td>\n",
       "    </tr>\n",
       "    <tr>\n",
       "      <th>29</th>\n",
       "      <td>SpaceToday</td>\n",
       "      <td>321068</td>\n",
       "      <td>26277335</td>\n",
       "      <td>2</td>\n",
       "    </tr>\n",
       "    <tr>\n",
       "      <th>30</th>\n",
       "      <td>Ciência todo dia</td>\n",
       "      <td>528761</td>\n",
       "      <td>16969332</td>\n",
       "      <td>2</td>\n",
       "    </tr>\n",
       "  </tbody>\n",
       "</table>\n",
       "</div>"
      ],
      "text/plain": [
       "                Canal  Inscritos  Visualizações  Cluster\n",
       "9     Minuto da Terra     274196       30166457        2\n",
       "23  Minutos Psíquicos     648892       22555134        2\n",
       "29         SpaceToday     321068       26277335        2\n",
       "30   Ciência todo dia     528761       16969332        2"
      ]
     },
     "execution_count": 80,
     "metadata": {},
     "output_type": "execute_result"
    }
   ],
   "source": [
    "boolArray = df['Cluster'] == 2\n",
    "df[boolArray]"
   ]
  },
  {
   "cell_type": "code",
   "execution_count": 81,
   "metadata": {},
   "outputs": [
    {
     "data": {
      "image/png": "[encoded data removed]",
      "text/plain": [
       "<Figure size 640x480 with 1 Axes>"
      ]
     },
     "metadata": {},
     "output_type": "display_data"
    }
   ],
   "source": [
    "x = X.to_numpy()\n",
    "\n",
    "plt.scatter(\n",
    "    x[clusters == 0, 0], x[clusters == 0, 1],\n",
    "    s=50, c='lightgreen',\n",
    "    edgecolor='black',\n",
    "    label='time C'\n",
    ")\n",
    "\n",
    "plt.scatter(\n",
    "    x[clusters == 1, 0], x[clusters == 1, 1],\n",
    "    s=50, c='orange',\n",
    "    edgecolor='black',\n",
    "    label='time A'\n",
    ")\n",
    "\n",
    "plt.scatter(\n",
    "    x[clusters == 2, 0], x[clusters == 2, 1],\n",
    "    s=50, c='yellow',\n",
    "    edgecolor='black',\n",
    "    label='time B'\n",
    ")\n",
    "\n",
    "# plot the centroids\n",
    "plt.scatter(\n",
    "    kmeans.cluster_centers_[:, 0], kmeans.cluster_centers_[:, 1],\n",
    "    s=200, c='red', edgecolor='black',\n",
    "    label='centroides'\n",
    ")\n",
    "\n",
    "plt.title(\"Canais do Science Vlogs Brasil\")\n",
    "plt.xlabel(\"Inscritos\")\n",
    "plt.ylabel(\"Visualizações\")\n",
    "\n",
    "plt.legend()\n",
    "plt.show()"
   ]
  },
  {
   "cell_type": "markdown",
   "metadata": {},
   "source": [
    "# Clusterização Hierárquica\n",
    "\n",
    "## Dendrograma"
   ]
  },
  {
   "cell_type": "code",
   "execution_count": 82,
   "metadata": {},
   "outputs": [
    {
     "data": {
      "image/png": "[encoded data removed]",
      "text/plain": [
       "<Figure size 640x480 with 1 Axes>"
      ]
     },
     "metadata": {},
     "output_type": "display_data"
    }
   ],
   "source": [
    "from scipy.cluster.hierarchy import dendrogram, linkage,ward\n",
    "\n",
    "#linkage realiza clusterização hierárquica a fim de se construir um dendrograma\n",
    "dendrogram(linkage(x))\n",
    "plt.show()"
   ]
  },
  {
   "cell_type": "code",
   "execution_count": 97,
   "metadata": {},
   "outputs": [
    {
     "data": {
      "text/plain": [
       "(46, 4)"
      ]
     },
     "execution_count": 97,
     "metadata": {},
     "output_type": "execute_result"
    }
   ],
   "source": [
    "Z = linkage(X,method=\"ward\")\n",
    "Z.shape"
   ]
  },
  {
   "cell_type": "code",
   "execution_count": 99,
   "metadata": {},
   "outputs": [
    {
     "data": {
      "image/png": "[encoded data removed]",
      "text/plain": [
       "<Figure size 640x480 with 1 Axes>"
      ]
     },
     "metadata": {},
     "output_type": "display_data"
    }
   ],
   "source": [
    "#linkage realiza clusterização hierárquica a fim de se construir um dendrograma\n",
    "dendrogram(Z,truncate_mode='level', p=4)\n",
    "plt.show()"
   ]
  },
  {
   "cell_type": "code",
   "execution_count": 96,
   "metadata": {},
   "outputs": [
    {
     "data": {
      "text/plain": [
       "array([[1.20000000e+01, 1.50000000e+01, 2.64026154e+03, 2.00000000e+00],\n",
       "       [4.50000000e+01, 4.70000000e+01, 4.09017412e+03, 3.00000000e+00],\n",
       "       [3.60000000e+01, 4.40000000e+01, 8.91329580e+03, 2.00000000e+00],\n",
       "       [1.40000000e+01, 3.40000000e+01, 2.25712252e+04, 2.00000000e+00],\n",
       "       [3.00000000e+00, 6.00000000e+00, 2.50579792e+04, 2.00000000e+00],\n",
       "       [4.00000000e+00, 2.80000000e+01, 2.66528888e+04, 2.00000000e+00],\n",
       "       [3.30000000e+01, 4.90000000e+01, 2.96107176e+04, 3.00000000e+00],\n",
       "       [4.10000000e+01, 4.80000000e+01, 3.32491444e+04, 4.00000000e+00],\n",
       "       [1.00000000e+00, 3.70000000e+01, 4.81949088e+04, 2.00000000e+00],\n",
       "       [5.00000000e+00, 2.70000000e+01, 5.62092108e+04, 2.00000000e+00],\n",
       "       [3.10000000e+01, 4.00000000e+01, 5.98604001e+04, 2.00000000e+00],\n",
       "       [5.30000000e+01, 5.40000000e+01, 9.41139541e+04, 7.00000000e+00],\n",
       "       [5.20000000e+01, 5.60000000e+01, 9.43697043e+04, 4.00000000e+00],\n",
       "       [1.00000000e+01, 5.10000000e+01, 1.03348781e+05, 3.00000000e+00],\n",
       "       [1.60000000e+01, 2.10000000e+01, 1.05628486e+05, 2.00000000e+00],\n",
       "       [2.20000000e+01, 4.60000000e+01, 1.07062492e+05, 2.00000000e+00],\n",
       "       [2.50000000e+01, 5.70000000e+01, 1.09433991e+05, 3.00000000e+00],\n",
       "       [3.80000000e+01, 4.30000000e+01, 1.30111712e+05, 2.00000000e+00],\n",
       "       [0.00000000e+00, 5.00000000e+01, 1.68697098e+05, 3.00000000e+00],\n",
       "       [2.00000000e+00, 4.20000000e+01, 1.89484754e+05, 2.00000000e+00],\n",
       "       [5.50000000e+01, 6.30000000e+01, 2.28918559e+05, 5.00000000e+00],\n",
       "       [1.70000000e+01, 5.90000000e+01, 2.68397215e+05, 5.00000000e+00],\n",
       "       [5.80000000e+01, 6.00000000e+01, 2.72286895e+05, 1.00000000e+01],\n",
       "       [1.90000000e+01, 2.00000000e+01, 3.35637000e+05, 2.00000000e+00],\n",
       "       [1.30000000e+01, 3.50000000e+01, 3.88773109e+05, 2.00000000e+00],\n",
       "       [6.20000000e+01, 6.70000000e+01, 4.30545211e+05, 7.00000000e+00],\n",
       "       [6.10000000e+01, 6.80000000e+01, 4.70495689e+05, 7.00000000e+00],\n",
       "       [2.40000000e+01, 6.60000000e+01, 5.12102356e+05, 3.00000000e+00],\n",
       "       [6.50000000e+01, 7.20000000e+01, 7.65200238e+05, 1.00000000e+01],\n",
       "       [6.40000000e+01, 7.30000000e+01, 8.78215731e+05, 9.00000000e+00],\n",
       "       [7.00000000e+00, 2.60000000e+01, 1.13204714e+06, 2.00000000e+00],\n",
       "       [8.00000000e+00, 7.00000000e+01, 1.19168190e+06, 3.00000000e+00],\n",
       "       [7.10000000e+01, 7.80000000e+01, 1.84858042e+06, 5.00000000e+00],\n",
       "       [6.90000000e+01, 7.50000000e+01, 2.11076872e+06, 2.00000000e+01],\n",
       "       [7.40000000e+01, 7.60000000e+01, 2.95925969e+06, 1.20000000e+01],\n",
       "       [1.10000000e+01, 7.90000000e+01, 3.21450805e+06, 6.00000000e+00],\n",
       "       [2.30000000e+01, 2.90000000e+01, 3.73660927e+06, 2.00000000e+00],\n",
       "       [8.00000000e+01, 8.10000000e+01, 6.21771917e+06, 3.20000000e+01],\n",
       "       [3.00000000e+01, 7.70000000e+01, 6.22643974e+06, 3.00000000e+00],\n",
       "       [9.00000000e+00, 8.30000000e+01, 6.64424450e+06, 3.00000000e+00],\n",
       "       [8.20000000e+01, 8.40000000e+01, 1.41275160e+07, 3.80000000e+01],\n",
       "       [1.80000000e+01, 3.20000000e+01, 1.65872865e+07, 2.00000000e+00],\n",
       "       [8.50000000e+01, 8.60000000e+01, 2.24377004e+07, 6.00000000e+00],\n",
       "       [3.90000000e+01, 8.80000000e+01, 3.92514249e+07, 3.00000000e+00],\n",
       "       [8.70000000e+01, 8.90000000e+01, 5.83464102e+07, 4.40000000e+01],\n",
       "       [9.00000000e+01, 9.10000000e+01, 2.17755664e+08, 4.70000000e+01]])"
      ]
     },
     "execution_count": 96,
     "metadata": {},
     "output_type": "execute_result"
    }
   ],
   "source": [
    "Z"
   ]
  },
  {
   "cell_type": "markdown",
   "metadata": {},
   "source": [
    "## Algoritmo de Clusterização Hierárquica"
   ]
  },
  {
   "cell_type": "code",
   "execution_count": 85,
   "metadata": {},
   "outputs": [
    {
     "data": {
      "text/html": [
       "<div>\n",
       "<style scoped>\n",
       "    .dataframe tbody tr th:only-of-type {\n",
       "        vertical-align: middle;\n",
       "    }\n",
       "\n",
       "    .dataframe tbody tr th {\n",
       "        vertical-align: top;\n",
       "    }\n",
       "\n",
       "    .dataframe thead th {\n",
       "        text-align: right;\n",
       "    }\n",
       "</style>\n",
       "<table border=\"1\" class=\"dataframe\">\n",
       "  <thead>\n",
       "    <tr style=\"text-align: right;\">\n",
       "      <th></th>\n",
       "      <th>Canal</th>\n",
       "      <th>Inscritos</th>\n",
       "      <th>Visualizações</th>\n",
       "      <th>Cluster</th>\n",
       "    </tr>\n",
       "  </thead>\n",
       "  <tbody>\n",
       "    <tr>\n",
       "      <th>0</th>\n",
       "      <td>Site Arqueologia Egípcia</td>\n",
       "      <td>13438</td>\n",
       "      <td>406590</td>\n",
       "      <td>0</td>\n",
       "    </tr>\n",
       "    <tr>\n",
       "      <th>1</th>\n",
       "      <td>Terra Negra</td>\n",
       "      <td>35241</td>\n",
       "      <td>868235</td>\n",
       "      <td>0</td>\n",
       "    </tr>\n",
       "    <tr>\n",
       "      <th>2</th>\n",
       "      <td>Frank Jaava</td>\n",
       "      <td>31680</td>\n",
       "      <td>2856508</td>\n",
       "      <td>0</td>\n",
       "    </tr>\n",
       "    <tr>\n",
       "      <th>3</th>\n",
       "      <td>Dispersciência</td>\n",
       "      <td>25100</td>\n",
       "      <td>150000</td>\n",
       "      <td>0</td>\n",
       "    </tr>\n",
       "    <tr>\n",
       "      <th>4</th>\n",
       "      <td>Olá Ciência</td>\n",
       "      <td>32788</td>\n",
       "      <td>1575456</td>\n",
       "      <td>0</td>\n",
       "    </tr>\n",
       "  </tbody>\n",
       "</table>\n",
       "</div>"
      ],
      "text/plain": [
       "                      Canal  Inscritos  Visualizações  Cluster\n",
       "0  Site Arqueologia Egípcia      13438         406590        0\n",
       "1               Terra Negra      35241         868235        0\n",
       "2               Frank Jaava      31680        2856508        0\n",
       "3            Dispersciência      25100         150000        0\n",
       "4               Olá Ciência      32788        1575456        0"
      ]
     },
     "execution_count": 85,
     "metadata": {},
     "output_type": "execute_result"
    }
   ],
   "source": [
    "from sklearn.cluster import AgglomerativeClustering\n",
    "\n",
    "hc_model = AgglomerativeClustering(linkage='ward')\n",
    "clusters = hc_model.fit_predict(x)\n",
    "\n",
    "df['Cluster'] = clusters\n",
    "df.head()"
   ]
  },
  {
   "cell_type": "code",
   "execution_count": 86,
   "metadata": {},
   "outputs": [
    {
     "data": {
      "text/plain": [
       "(47, 2)"
      ]
     },
     "execution_count": 86,
     "metadata": {},
     "output_type": "execute_result"
    }
   ],
   "source": [
    "X.shape"
   ]
  },
  {
   "cell_type": "code",
   "execution_count": 87,
   "metadata": {},
   "outputs": [
    {
     "data": {
      "text/plain": [
       "(47,)"
      ]
     },
     "execution_count": 87,
     "metadata": {},
     "output_type": "execute_result"
    }
   ],
   "source": [
    "clusters.shape"
   ]
  },
  {
   "cell_type": "code",
   "execution_count": 88,
   "metadata": {},
   "outputs": [
    {
     "data": {
      "text/html": [
       "<div>\n",
       "<style scoped>\n",
       "    .dataframe tbody tr th:only-of-type {\n",
       "        vertical-align: middle;\n",
       "    }\n",
       "\n",
       "    .dataframe tbody tr th {\n",
       "        vertical-align: top;\n",
       "    }\n",
       "\n",
       "    .dataframe thead th {\n",
       "        text-align: right;\n",
       "    }\n",
       "</style>\n",
       "<table border=\"1\" class=\"dataframe\">\n",
       "  <thead>\n",
       "    <tr style=\"text-align: right;\">\n",
       "      <th></th>\n",
       "      <th>Canal</th>\n",
       "      <th>Inscritos</th>\n",
       "      <th>Visualizações</th>\n",
       "      <th>Cluster</th>\n",
       "    </tr>\n",
       "  </thead>\n",
       "  <tbody>\n",
       "    <tr>\n",
       "      <th>18</th>\n",
       "      <td>Matemática Rio com Prof Rafael Procópio</td>\n",
       "      <td>1423056</td>\n",
       "      <td>93036517</td>\n",
       "      <td>1</td>\n",
       "    </tr>\n",
       "    <tr>\n",
       "      <th>32</th>\n",
       "      <td>Canal do Pirula</td>\n",
       "      <td>752573</td>\n",
       "      <td>76462787</td>\n",
       "      <td>1</td>\n",
       "    </tr>\n",
       "    <tr>\n",
       "      <th>39</th>\n",
       "      <td>Schwarza - Poligonautas</td>\n",
       "      <td>860493</td>\n",
       "      <td>118741623</td>\n",
       "      <td>1</td>\n",
       "    </tr>\n",
       "  </tbody>\n",
       "</table>\n",
       "</div>"
      ],
      "text/plain": [
       "                                      Canal  Inscritos  Visualizações  Cluster\n",
       "18  Matemática Rio com Prof Rafael Procópio    1423056       93036517        1\n",
       "32                          Canal do Pirula     752573       76462787        1\n",
       "39                  Schwarza - Poligonautas     860493      118741623        1"
      ]
     },
     "execution_count": 88,
     "metadata": {},
     "output_type": "execute_result"
    }
   ],
   "source": [
    "boolArray = df['Cluster'] == 1\n",
    "df[boolArray]"
   ]
  },
  {
   "cell_type": "code",
   "execution_count": 89,
   "metadata": {},
   "outputs": [
    {
     "data": {
      "text/html": [
       "<style>#sk-container-id-2 {color: black;}#sk-container-id-2 pre{padding: 0;}#sk-container-id-2 div.sk-toggleable {background-color: white;}#sk-container-id-2 label.sk-toggleable__label {cursor: pointer;display: block;width: 100%;margin-bottom: 0;padding: 0.3em;box-sizing: border-box;text-align: center;}#sk-container-id-2 label.sk-toggleable__label-arrow:before {content: \"▸\";float: left;margin-right: 0.25em;color: #696969;}#sk-container-id-2 label.sk-toggleable__label-arrow:hover:before {color: black;}#sk-container-id-2 div.sk-estimator:hover label.sk-toggleable__label-arrow:before {color: black;}#sk-container-id-2 div.sk-toggleable__content {max-height: 0;max-width: 0;overflow: hidden;text-align: left;background-color: #f0f8ff;}#sk-container-id-2 div.sk-toggleable__content pre {margin: 0.2em;color: black;border-radius: 0.25em;background-color: #f0f8ff;}#sk-container-id-2 input.sk-toggleable__control:checked~div.sk-toggleable__content {max-height: 200px;max-width: 100%;overflow: auto;}#sk-container-id-2 input.sk-toggleable__control:checked~label.sk-toggleable__label-arrow:before {content: \"▾\";}#sk-container-id-2 div.sk-estimator input.sk-toggleable__control:checked~label.sk-toggleable__label {background-color: #d4ebff;}#sk-container-id-2 div.sk-label input.sk-toggleable__control:checked~label.sk-toggleable__label {background-color: #d4ebff;}#sk-container-id-2 input.sk-hidden--visually {border: 0;clip: rect(1px 1px 1px 1px);clip: rect(1px, 1px, 1px, 1px);height: 1px;margin: -1px;overflow: hidden;padding: 0;position: absolute;width: 1px;}#sk-container-id-2 div.sk-estimator {font-family: monospace;background-color: #f0f8ff;border: 1px dotted black;border-radius: 0.25em;box-sizing: border-box;margin-bottom: 0.5em;}#sk-container-id-2 div.sk-estimator:hover {background-color: #d4ebff;}#sk-container-id-2 div.sk-parallel-item::after {content: \"\";width: 100%;border-bottom: 1px solid gray;flex-grow: 1;}#sk-container-id-2 div.sk-label:hover label.sk-toggleable__label {background-color: #d4ebff;}#sk-container-id-2 div.sk-serial::before {content: \"\";position: absolute;border-left: 1px solid gray;box-sizing: border-box;top: 0;bottom: 0;left: 50%;z-index: 0;}#sk-container-id-2 div.sk-serial {display: flex;flex-direction: column;align-items: center;background-color: white;padding-right: 0.2em;padding-left: 0.2em;position: relative;}#sk-container-id-2 div.sk-item {position: relative;z-index: 1;}#sk-container-id-2 div.sk-parallel {display: flex;align-items: stretch;justify-content: center;background-color: white;position: relative;}#sk-container-id-2 div.sk-item::before, #sk-container-id-2 div.sk-parallel-item::before {content: \"\";position: absolute;border-left: 1px solid gray;box-sizing: border-box;top: 0;bottom: 0;left: 50%;z-index: -1;}#sk-container-id-2 div.sk-parallel-item {display: flex;flex-direction: column;z-index: 1;position: relative;background-color: white;}#sk-container-id-2 div.sk-parallel-item:first-child::after {align-self: flex-end;width: 50%;}#sk-container-id-2 div.sk-parallel-item:last-child::after {align-self: flex-start;width: 50%;}#sk-container-id-2 div.sk-parallel-item:only-child::after {width: 0;}#sk-container-id-2 div.sk-dashed-wrapped {border: 1px dashed gray;margin: 0 0.4em 0.5em 0.4em;box-sizing: border-box;padding-bottom: 0.4em;background-color: white;}#sk-container-id-2 div.sk-label label {font-family: monospace;font-weight: bold;display: inline-block;line-height: 1.2em;}#sk-container-id-2 div.sk-label-container {text-align: center;}#sk-container-id-2 div.sk-container {/* jupyter's `normalize.less` sets `[hidden] { display: none; }` but bootstrap.min.css set `[hidden] { display: none !important; }` so we also need the `!important` here to be able to override the default hidden behavior on the sphinx rendered scikit-learn.org. See: https://github.com/scikit-learn/scikit-learn/issues/21755 */display: inline-block !important;position: relative;}#sk-container-id-2 div.sk-text-repr-fallback {display: none;}</style><div id=\"sk-container-id-2\" class=\"sk-top-container\"><div class=\"sk-text-repr-fallback\"><pre>AgglomerativeClustering()</pre><b>In a Jupyter environment, please rerun this cell to show the HTML representation or trust the notebook. <br />On GitHub, the HTML representation is unable to render, please try loading this page with nbviewer.org.</b></div><div class=\"sk-container\" hidden><div class=\"sk-item\"><div class=\"sk-estimator sk-toggleable\"><input class=\"sk-toggleable__control sk-hidden--visually\" id=\"sk-estimator-id-2\" type=\"checkbox\" checked><label for=\"sk-estimator-id-2\" class=\"sk-toggleable__label sk-toggleable__label-arrow\">AgglomerativeClustering</label><div class=\"sk-toggleable__content\"><pre>AgglomerativeClustering()</pre></div></div></div></div></div>"
      ],
      "text/plain": [
       "AgglomerativeClustering()"
      ]
     },
     "execution_count": 89,
     "metadata": {},
     "output_type": "execute_result"
    }
   ],
   "source": [
    "hc_model"
   ]
  },
  {
   "cell_type": "code",
   "execution_count": 90,
   "metadata": {},
   "outputs": [
    {
     "data": {
      "image/png": "[encoded data removed]",
      "text/plain": [
       "<Figure size 640x480 with 1 Axes>"
      ]
     },
     "metadata": {},
     "output_type": "display_data"
    }
   ],
   "source": [
    "x = X.to_numpy()\n",
    "\n",
    "plt.scatter(\n",
    "    x[clusters == 1, 0], x[clusters == 1, 1],\n",
    "    s=50, c='orange',\n",
    "    edgecolor='black',\n",
    "    label='time A'\n",
    ")\n",
    "\n",
    "plt.scatter(\n",
    "    x[clusters == 0, 0], x[clusters == 0, 1],\n",
    "    s=50, c='lightgreen',\n",
    "    edgecolor='black',\n",
    "    label='time B'\n",
    ")\n",
    "\n",
    "plt.title(\"Canais do Science Vlogs Brasil\")\n",
    "plt.xlabel(\"Inscritos\")\n",
    "plt.ylabel(\"Visualizações\")\n",
    "\n",
    "plt.legend()\n",
    "plt.show()"
   ]
  },
  {
   "cell_type": "code",
   "execution_count": 91,
   "metadata": {},
   "outputs": [],
   "source": [
    "#https://docs.scipy.org/doc/scipy/reference/generated/scipy.cluster.hierarchy.linkage.html\n",
    "#https://scikit-learn.org/stable/modules/clustering.html#hierarchical-clustering\n",
    "#https://towardsdatascience.com/hierarchical-clustering-explained-e58d2f936323\n",
    "#https://pythonprogramming.net/hierarchical-clustering-machine-learning-python-scikit-learn/\n",
    "#https://joernhees.de/blog/2015/08/26/scipy-hierarchical-clustering-and-dendrogram-tutorial/"
   ]
  }
 ],
 "metadata": {
  "kernelspec": {
   "display_name": "Python 3",
   "language": "python",
   "name": "python3"
  },
  "language_info": {
   "codemirror_mode": {
    "name": "ipython",
    "version": 3
   },
   "file_extension": ".py",
   "mimetype": "text/x-python",
   "name": "python",
   "nbconvert_exporter": "python",
   "pygments_lexer": "ipython3",
   "version": "3.11.0"
  }
 },
 "nbformat": 4,
 "nbformat_minor": 4
}
